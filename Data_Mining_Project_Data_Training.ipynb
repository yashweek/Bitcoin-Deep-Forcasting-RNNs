{
  "nbformat": 4,
  "nbformat_minor": 0,
  "metadata": {
    "colab": {
      "name": "Data Mining Project Data Training",
      "provenance": [],
      "collapsed_sections": []
    },
    "kernelspec": {
      "display_name": "Python 3",
      "name": "python3"
    },
    "language_info": {
      "name": "python"
    },
    "widgets": {
      "application/vnd.jupyter.widget-state+json": {
        "edd863c00a21436281388dee00f7a91c": {
          "model_module": "@jupyter-widgets/controls",
          "model_name": "HBoxModel",
          "model_module_version": "1.5.0",
          "state": {
            "_dom_classes": [],
            "_model_module": "@jupyter-widgets/controls",
            "_model_module_version": "1.5.0",
            "_model_name": "HBoxModel",
            "_view_count": null,
            "_view_module": "@jupyter-widgets/controls",
            "_view_module_version": "1.5.0",
            "_view_name": "HBoxView",
            "box_style": "",
            "children": [
              "IPY_MODEL_33ced9b3ae9a42c7abd43320a47c2c59",
              "IPY_MODEL_ca353856d9684cccaf10a8309b030da7",
              "IPY_MODEL_9571d0462c6d4bd2a4ab24d77cb58a8e"
            ],
            "layout": "IPY_MODEL_43eceffdc6b149caa93ffb0240df747b"
          }
        },
        "33ced9b3ae9a42c7abd43320a47c2c59": {
          "model_module": "@jupyter-widgets/controls",
          "model_name": "HTMLModel",
          "model_module_version": "1.5.0",
          "state": {
            "_dom_classes": [],
            "_model_module": "@jupyter-widgets/controls",
            "_model_module_version": "1.5.0",
            "_model_name": "HTMLModel",
            "_view_count": null,
            "_view_module": "@jupyter-widgets/controls",
            "_view_module_version": "1.5.0",
            "_view_name": "HTMLView",
            "description": "",
            "description_tooltip": null,
            "layout": "IPY_MODEL_5d5bcbca001d4ef0be58f0501108632c",
            "placeholder": "​",
            "style": "IPY_MODEL_5da8a8481e554eaf86744d4d587cf59c",
            "value": "Downloading: 100%"
          }
        },
        "ca353856d9684cccaf10a8309b030da7": {
          "model_module": "@jupyter-widgets/controls",
          "model_name": "FloatProgressModel",
          "model_module_version": "1.5.0",
          "state": {
            "_dom_classes": [],
            "_model_module": "@jupyter-widgets/controls",
            "_model_module_version": "1.5.0",
            "_model_name": "FloatProgressModel",
            "_view_count": null,
            "_view_module": "@jupyter-widgets/controls",
            "_view_module_version": "1.5.0",
            "_view_name": "ProgressView",
            "bar_style": "success",
            "description": "",
            "description_tooltip": null,
            "layout": "IPY_MODEL_6cf66c2ee8bf4f28ae3815220e4d1430",
            "max": 28,
            "min": 0,
            "orientation": "horizontal",
            "style": "IPY_MODEL_fa8fe4b0ee094d909c61d06ed738412d",
            "value": 28
          }
        },
        "9571d0462c6d4bd2a4ab24d77cb58a8e": {
          "model_module": "@jupyter-widgets/controls",
          "model_name": "HTMLModel",
          "model_module_version": "1.5.0",
          "state": {
            "_dom_classes": [],
            "_model_module": "@jupyter-widgets/controls",
            "_model_module_version": "1.5.0",
            "_model_name": "HTMLModel",
            "_view_count": null,
            "_view_module": "@jupyter-widgets/controls",
            "_view_module_version": "1.5.0",
            "_view_name": "HTMLView",
            "description": "",
            "description_tooltip": null,
            "layout": "IPY_MODEL_801e22e9e7c54b85976c8b2aa05d7933",
            "placeholder": "​",
            "style": "IPY_MODEL_367f2e8b339e468a86c18cfc36ec84ed",
            "value": " 28.0/28.0 [00:00&lt;00:00, 580B/s]"
          }
        },
        "43eceffdc6b149caa93ffb0240df747b": {
          "model_module": "@jupyter-widgets/base",
          "model_name": "LayoutModel",
          "model_module_version": "1.2.0",
          "state": {
            "_model_module": "@jupyter-widgets/base",
            "_model_module_version": "1.2.0",
            "_model_name": "LayoutModel",
            "_view_count": null,
            "_view_module": "@jupyter-widgets/base",
            "_view_module_version": "1.2.0",
            "_view_name": "LayoutView",
            "align_content": null,
            "align_items": null,
            "align_self": null,
            "border": null,
            "bottom": null,
            "display": null,
            "flex": null,
            "flex_flow": null,
            "grid_area": null,
            "grid_auto_columns": null,
            "grid_auto_flow": null,
            "grid_auto_rows": null,
            "grid_column": null,
            "grid_gap": null,
            "grid_row": null,
            "grid_template_areas": null,
            "grid_template_columns": null,
            "grid_template_rows": null,
            "height": null,
            "justify_content": null,
            "justify_items": null,
            "left": null,
            "margin": null,
            "max_height": null,
            "max_width": null,
            "min_height": null,
            "min_width": null,
            "object_fit": null,
            "object_position": null,
            "order": null,
            "overflow": null,
            "overflow_x": null,
            "overflow_y": null,
            "padding": null,
            "right": null,
            "top": null,
            "visibility": null,
            "width": null
          }
        },
        "5d5bcbca001d4ef0be58f0501108632c": {
          "model_module": "@jupyter-widgets/base",
          "model_name": "LayoutModel",
          "model_module_version": "1.2.0",
          "state": {
            "_model_module": "@jupyter-widgets/base",
            "_model_module_version": "1.2.0",
            "_model_name": "LayoutModel",
            "_view_count": null,
            "_view_module": "@jupyter-widgets/base",
            "_view_module_version": "1.2.0",
            "_view_name": "LayoutView",
            "align_content": null,
            "align_items": null,
            "align_self": null,
            "border": null,
            "bottom": null,
            "display": null,
            "flex": null,
            "flex_flow": null,
            "grid_area": null,
            "grid_auto_columns": null,
            "grid_auto_flow": null,
            "grid_auto_rows": null,
            "grid_column": null,
            "grid_gap": null,
            "grid_row": null,
            "grid_template_areas": null,
            "grid_template_columns": null,
            "grid_template_rows": null,
            "height": null,
            "justify_content": null,
            "justify_items": null,
            "left": null,
            "margin": null,
            "max_height": null,
            "max_width": null,
            "min_height": null,
            "min_width": null,
            "object_fit": null,
            "object_position": null,
            "order": null,
            "overflow": null,
            "overflow_x": null,
            "overflow_y": null,
            "padding": null,
            "right": null,
            "top": null,
            "visibility": null,
            "width": null
          }
        },
        "5da8a8481e554eaf86744d4d587cf59c": {
          "model_module": "@jupyter-widgets/controls",
          "model_name": "DescriptionStyleModel",
          "model_module_version": "1.5.0",
          "state": {
            "_model_module": "@jupyter-widgets/controls",
            "_model_module_version": "1.5.0",
            "_model_name": "DescriptionStyleModel",
            "_view_count": null,
            "_view_module": "@jupyter-widgets/base",
            "_view_module_version": "1.2.0",
            "_view_name": "StyleView",
            "description_width": ""
          }
        },
        "6cf66c2ee8bf4f28ae3815220e4d1430": {
          "model_module": "@jupyter-widgets/base",
          "model_name": "LayoutModel",
          "model_module_version": "1.2.0",
          "state": {
            "_model_module": "@jupyter-widgets/base",
            "_model_module_version": "1.2.0",
            "_model_name": "LayoutModel",
            "_view_count": null,
            "_view_module": "@jupyter-widgets/base",
            "_view_module_version": "1.2.0",
            "_view_name": "LayoutView",
            "align_content": null,
            "align_items": null,
            "align_self": null,
            "border": null,
            "bottom": null,
            "display": null,
            "flex": null,
            "flex_flow": null,
            "grid_area": null,
            "grid_auto_columns": null,
            "grid_auto_flow": null,
            "grid_auto_rows": null,
            "grid_column": null,
            "grid_gap": null,
            "grid_row": null,
            "grid_template_areas": null,
            "grid_template_columns": null,
            "grid_template_rows": null,
            "height": null,
            "justify_content": null,
            "justify_items": null,
            "left": null,
            "margin": null,
            "max_height": null,
            "max_width": null,
            "min_height": null,
            "min_width": null,
            "object_fit": null,
            "object_position": null,
            "order": null,
            "overflow": null,
            "overflow_x": null,
            "overflow_y": null,
            "padding": null,
            "right": null,
            "top": null,
            "visibility": null,
            "width": null
          }
        },
        "fa8fe4b0ee094d909c61d06ed738412d": {
          "model_module": "@jupyter-widgets/controls",
          "model_name": "ProgressStyleModel",
          "model_module_version": "1.5.0",
          "state": {
            "_model_module": "@jupyter-widgets/controls",
            "_model_module_version": "1.5.0",
            "_model_name": "ProgressStyleModel",
            "_view_count": null,
            "_view_module": "@jupyter-widgets/base",
            "_view_module_version": "1.2.0",
            "_view_name": "StyleView",
            "bar_color": null,
            "description_width": ""
          }
        },
        "801e22e9e7c54b85976c8b2aa05d7933": {
          "model_module": "@jupyter-widgets/base",
          "model_name": "LayoutModel",
          "model_module_version": "1.2.0",
          "state": {
            "_model_module": "@jupyter-widgets/base",
            "_model_module_version": "1.2.0",
            "_model_name": "LayoutModel",
            "_view_count": null,
            "_view_module": "@jupyter-widgets/base",
            "_view_module_version": "1.2.0",
            "_view_name": "LayoutView",
            "align_content": null,
            "align_items": null,
            "align_self": null,
            "border": null,
            "bottom": null,
            "display": null,
            "flex": null,
            "flex_flow": null,
            "grid_area": null,
            "grid_auto_columns": null,
            "grid_auto_flow": null,
            "grid_auto_rows": null,
            "grid_column": null,
            "grid_gap": null,
            "grid_row": null,
            "grid_template_areas": null,
            "grid_template_columns": null,
            "grid_template_rows": null,
            "height": null,
            "justify_content": null,
            "justify_items": null,
            "left": null,
            "margin": null,
            "max_height": null,
            "max_width": null,
            "min_height": null,
            "min_width": null,
            "object_fit": null,
            "object_position": null,
            "order": null,
            "overflow": null,
            "overflow_x": null,
            "overflow_y": null,
            "padding": null,
            "right": null,
            "top": null,
            "visibility": null,
            "width": null
          }
        },
        "367f2e8b339e468a86c18cfc36ec84ed": {
          "model_module": "@jupyter-widgets/controls",
          "model_name": "DescriptionStyleModel",
          "model_module_version": "1.5.0",
          "state": {
            "_model_module": "@jupyter-widgets/controls",
            "_model_module_version": "1.5.0",
            "_model_name": "DescriptionStyleModel",
            "_view_count": null,
            "_view_module": "@jupyter-widgets/base",
            "_view_module_version": "1.2.0",
            "_view_name": "StyleView",
            "description_width": ""
          }
        },
        "6915666b6f39444a9c69c3dac55275ed": {
          "model_module": "@jupyter-widgets/controls",
          "model_name": "HBoxModel",
          "model_module_version": "1.5.0",
          "state": {
            "_dom_classes": [],
            "_model_module": "@jupyter-widgets/controls",
            "_model_module_version": "1.5.0",
            "_model_name": "HBoxModel",
            "_view_count": null,
            "_view_module": "@jupyter-widgets/controls",
            "_view_module_version": "1.5.0",
            "_view_name": "HBoxView",
            "box_style": "",
            "children": [
              "IPY_MODEL_ca2172c8b43742bd9dbf91b531701bc5",
              "IPY_MODEL_975bc7b26c7740b1a1d6a89460ba8994",
              "IPY_MODEL_7f4b568fee9449edb061ffd3fa1a6ff2"
            ],
            "layout": "IPY_MODEL_4201dd7ad66c4caabc6c4cc0a5c10c02"
          }
        },
        "ca2172c8b43742bd9dbf91b531701bc5": {
          "model_module": "@jupyter-widgets/controls",
          "model_name": "HTMLModel",
          "model_module_version": "1.5.0",
          "state": {
            "_dom_classes": [],
            "_model_module": "@jupyter-widgets/controls",
            "_model_module_version": "1.5.0",
            "_model_name": "HTMLModel",
            "_view_count": null,
            "_view_module": "@jupyter-widgets/controls",
            "_view_module_version": "1.5.0",
            "_view_name": "HTMLView",
            "description": "",
            "description_tooltip": null,
            "layout": "IPY_MODEL_990fa590bbfd4fe29708a4bc4689f4d3",
            "placeholder": "​",
            "style": "IPY_MODEL_b9e5db24aabe4907ac7cef13295d91f2",
            "value": "Downloading: 100%"
          }
        },
        "975bc7b26c7740b1a1d6a89460ba8994": {
          "model_module": "@jupyter-widgets/controls",
          "model_name": "FloatProgressModel",
          "model_module_version": "1.5.0",
          "state": {
            "_dom_classes": [],
            "_model_module": "@jupyter-widgets/controls",
            "_model_module_version": "1.5.0",
            "_model_name": "FloatProgressModel",
            "_view_count": null,
            "_view_module": "@jupyter-widgets/controls",
            "_view_module_version": "1.5.0",
            "_view_name": "ProgressView",
            "bar_style": "success",
            "description": "",
            "description_tooltip": null,
            "layout": "IPY_MODEL_22d4a450b7d94ea0a524c5d4a5a23cf6",
            "max": 231508,
            "min": 0,
            "orientation": "horizontal",
            "style": "IPY_MODEL_eaf998f964cc4087a7816c2be1948ff5",
            "value": 231508
          }
        },
        "7f4b568fee9449edb061ffd3fa1a6ff2": {
          "model_module": "@jupyter-widgets/controls",
          "model_name": "HTMLModel",
          "model_module_version": "1.5.0",
          "state": {
            "_dom_classes": [],
            "_model_module": "@jupyter-widgets/controls",
            "_model_module_version": "1.5.0",
            "_model_name": "HTMLModel",
            "_view_count": null,
            "_view_module": "@jupyter-widgets/controls",
            "_view_module_version": "1.5.0",
            "_view_name": "HTMLView",
            "description": "",
            "description_tooltip": null,
            "layout": "IPY_MODEL_8e823a932b4a43d791482b71df646618",
            "placeholder": "​",
            "style": "IPY_MODEL_f94db67b768d4ae9b34a1c6d5bc3d305",
            "value": " 226k/226k [00:00&lt;00:00, 932kB/s]"
          }
        },
        "4201dd7ad66c4caabc6c4cc0a5c10c02": {
          "model_module": "@jupyter-widgets/base",
          "model_name": "LayoutModel",
          "model_module_version": "1.2.0",
          "state": {
            "_model_module": "@jupyter-widgets/base",
            "_model_module_version": "1.2.0",
            "_model_name": "LayoutModel",
            "_view_count": null,
            "_view_module": "@jupyter-widgets/base",
            "_view_module_version": "1.2.0",
            "_view_name": "LayoutView",
            "align_content": null,
            "align_items": null,
            "align_self": null,
            "border": null,
            "bottom": null,
            "display": null,
            "flex": null,
            "flex_flow": null,
            "grid_area": null,
            "grid_auto_columns": null,
            "grid_auto_flow": null,
            "grid_auto_rows": null,
            "grid_column": null,
            "grid_gap": null,
            "grid_row": null,
            "grid_template_areas": null,
            "grid_template_columns": null,
            "grid_template_rows": null,
            "height": null,
            "justify_content": null,
            "justify_items": null,
            "left": null,
            "margin": null,
            "max_height": null,
            "max_width": null,
            "min_height": null,
            "min_width": null,
            "object_fit": null,
            "object_position": null,
            "order": null,
            "overflow": null,
            "overflow_x": null,
            "overflow_y": null,
            "padding": null,
            "right": null,
            "top": null,
            "visibility": null,
            "width": null
          }
        },
        "990fa590bbfd4fe29708a4bc4689f4d3": {
          "model_module": "@jupyter-widgets/base",
          "model_name": "LayoutModel",
          "model_module_version": "1.2.0",
          "state": {
            "_model_module": "@jupyter-widgets/base",
            "_model_module_version": "1.2.0",
            "_model_name": "LayoutModel",
            "_view_count": null,
            "_view_module": "@jupyter-widgets/base",
            "_view_module_version": "1.2.0",
            "_view_name": "LayoutView",
            "align_content": null,
            "align_items": null,
            "align_self": null,
            "border": null,
            "bottom": null,
            "display": null,
            "flex": null,
            "flex_flow": null,
            "grid_area": null,
            "grid_auto_columns": null,
            "grid_auto_flow": null,
            "grid_auto_rows": null,
            "grid_column": null,
            "grid_gap": null,
            "grid_row": null,
            "grid_template_areas": null,
            "grid_template_columns": null,
            "grid_template_rows": null,
            "height": null,
            "justify_content": null,
            "justify_items": null,
            "left": null,
            "margin": null,
            "max_height": null,
            "max_width": null,
            "min_height": null,
            "min_width": null,
            "object_fit": null,
            "object_position": null,
            "order": null,
            "overflow": null,
            "overflow_x": null,
            "overflow_y": null,
            "padding": null,
            "right": null,
            "top": null,
            "visibility": null,
            "width": null
          }
        },
        "b9e5db24aabe4907ac7cef13295d91f2": {
          "model_module": "@jupyter-widgets/controls",
          "model_name": "DescriptionStyleModel",
          "model_module_version": "1.5.0",
          "state": {
            "_model_module": "@jupyter-widgets/controls",
            "_model_module_version": "1.5.0",
            "_model_name": "DescriptionStyleModel",
            "_view_count": null,
            "_view_module": "@jupyter-widgets/base",
            "_view_module_version": "1.2.0",
            "_view_name": "StyleView",
            "description_width": ""
          }
        },
        "22d4a450b7d94ea0a524c5d4a5a23cf6": {
          "model_module": "@jupyter-widgets/base",
          "model_name": "LayoutModel",
          "model_module_version": "1.2.0",
          "state": {
            "_model_module": "@jupyter-widgets/base",
            "_model_module_version": "1.2.0",
            "_model_name": "LayoutModel",
            "_view_count": null,
            "_view_module": "@jupyter-widgets/base",
            "_view_module_version": "1.2.0",
            "_view_name": "LayoutView",
            "align_content": null,
            "align_items": null,
            "align_self": null,
            "border": null,
            "bottom": null,
            "display": null,
            "flex": null,
            "flex_flow": null,
            "grid_area": null,
            "grid_auto_columns": null,
            "grid_auto_flow": null,
            "grid_auto_rows": null,
            "grid_column": null,
            "grid_gap": null,
            "grid_row": null,
            "grid_template_areas": null,
            "grid_template_columns": null,
            "grid_template_rows": null,
            "height": null,
            "justify_content": null,
            "justify_items": null,
            "left": null,
            "margin": null,
            "max_height": null,
            "max_width": null,
            "min_height": null,
            "min_width": null,
            "object_fit": null,
            "object_position": null,
            "order": null,
            "overflow": null,
            "overflow_x": null,
            "overflow_y": null,
            "padding": null,
            "right": null,
            "top": null,
            "visibility": null,
            "width": null
          }
        },
        "eaf998f964cc4087a7816c2be1948ff5": {
          "model_module": "@jupyter-widgets/controls",
          "model_name": "ProgressStyleModel",
          "model_module_version": "1.5.0",
          "state": {
            "_model_module": "@jupyter-widgets/controls",
            "_model_module_version": "1.5.0",
            "_model_name": "ProgressStyleModel",
            "_view_count": null,
            "_view_module": "@jupyter-widgets/base",
            "_view_module_version": "1.2.0",
            "_view_name": "StyleView",
            "bar_color": null,
            "description_width": ""
          }
        },
        "8e823a932b4a43d791482b71df646618": {
          "model_module": "@jupyter-widgets/base",
          "model_name": "LayoutModel",
          "model_module_version": "1.2.0",
          "state": {
            "_model_module": "@jupyter-widgets/base",
            "_model_module_version": "1.2.0",
            "_model_name": "LayoutModel",
            "_view_count": null,
            "_view_module": "@jupyter-widgets/base",
            "_view_module_version": "1.2.0",
            "_view_name": "LayoutView",
            "align_content": null,
            "align_items": null,
            "align_self": null,
            "border": null,
            "bottom": null,
            "display": null,
            "flex": null,
            "flex_flow": null,
            "grid_area": null,
            "grid_auto_columns": null,
            "grid_auto_flow": null,
            "grid_auto_rows": null,
            "grid_column": null,
            "grid_gap": null,
            "grid_row": null,
            "grid_template_areas": null,
            "grid_template_columns": null,
            "grid_template_rows": null,
            "height": null,
            "justify_content": null,
            "justify_items": null,
            "left": null,
            "margin": null,
            "max_height": null,
            "max_width": null,
            "min_height": null,
            "min_width": null,
            "object_fit": null,
            "object_position": null,
            "order": null,
            "overflow": null,
            "overflow_x": null,
            "overflow_y": null,
            "padding": null,
            "right": null,
            "top": null,
            "visibility": null,
            "width": null
          }
        },
        "f94db67b768d4ae9b34a1c6d5bc3d305": {
          "model_module": "@jupyter-widgets/controls",
          "model_name": "DescriptionStyleModel",
          "model_module_version": "1.5.0",
          "state": {
            "_model_module": "@jupyter-widgets/controls",
            "_model_module_version": "1.5.0",
            "_model_name": "DescriptionStyleModel",
            "_view_count": null,
            "_view_module": "@jupyter-widgets/base",
            "_view_module_version": "1.2.0",
            "_view_name": "StyleView",
            "description_width": ""
          }
        },
        "3e65e18c9eaf4238b43dd2cee9a298bb": {
          "model_module": "@jupyter-widgets/controls",
          "model_name": "HBoxModel",
          "model_module_version": "1.5.0",
          "state": {
            "_dom_classes": [],
            "_model_module": "@jupyter-widgets/controls",
            "_model_module_version": "1.5.0",
            "_model_name": "HBoxModel",
            "_view_count": null,
            "_view_module": "@jupyter-widgets/controls",
            "_view_module_version": "1.5.0",
            "_view_name": "HBoxView",
            "box_style": "",
            "children": [
              "IPY_MODEL_74e9d5ad9fef486ca504f78408ed7149",
              "IPY_MODEL_69c6f4b1449d4293a8997b6dd16b4257",
              "IPY_MODEL_3d46cc7a6f8a4711ad5e57251123eafd"
            ],
            "layout": "IPY_MODEL_df02380513ca42a3a0831daa423d2377"
          }
        },
        "74e9d5ad9fef486ca504f78408ed7149": {
          "model_module": "@jupyter-widgets/controls",
          "model_name": "HTMLModel",
          "model_module_version": "1.5.0",
          "state": {
            "_dom_classes": [],
            "_model_module": "@jupyter-widgets/controls",
            "_model_module_version": "1.5.0",
            "_model_name": "HTMLModel",
            "_view_count": null,
            "_view_module": "@jupyter-widgets/controls",
            "_view_module_version": "1.5.0",
            "_view_name": "HTMLView",
            "description": "",
            "description_tooltip": null,
            "layout": "IPY_MODEL_513c3d344a904e75a37577fc923cd347",
            "placeholder": "​",
            "style": "IPY_MODEL_0b505e1e04f5497cbb1cc1415ca00f2b",
            "value": "Downloading: 100%"
          }
        },
        "69c6f4b1449d4293a8997b6dd16b4257": {
          "model_module": "@jupyter-widgets/controls",
          "model_name": "FloatProgressModel",
          "model_module_version": "1.5.0",
          "state": {
            "_dom_classes": [],
            "_model_module": "@jupyter-widgets/controls",
            "_model_module_version": "1.5.0",
            "_model_name": "FloatProgressModel",
            "_view_count": null,
            "_view_module": "@jupyter-widgets/controls",
            "_view_module_version": "1.5.0",
            "_view_name": "ProgressView",
            "bar_style": "success",
            "description": "",
            "description_tooltip": null,
            "layout": "IPY_MODEL_0b6d818909de4faba364cbb77547332a",
            "max": 466062,
            "min": 0,
            "orientation": "horizontal",
            "style": "IPY_MODEL_0b0e11ae2e3647b6b134169f9a288d5b",
            "value": 466062
          }
        },
        "3d46cc7a6f8a4711ad5e57251123eafd": {
          "model_module": "@jupyter-widgets/controls",
          "model_name": "HTMLModel",
          "model_module_version": "1.5.0",
          "state": {
            "_dom_classes": [],
            "_model_module": "@jupyter-widgets/controls",
            "_model_module_version": "1.5.0",
            "_model_name": "HTMLModel",
            "_view_count": null,
            "_view_module": "@jupyter-widgets/controls",
            "_view_module_version": "1.5.0",
            "_view_name": "HTMLView",
            "description": "",
            "description_tooltip": null,
            "layout": "IPY_MODEL_c490bc03b62f43c3b94e5f797c4c70ba",
            "placeholder": "​",
            "style": "IPY_MODEL_0ef52deecd064525b78e1999f9811830",
            "value": " 455k/455k [00:00&lt;00:00, 806kB/s]"
          }
        },
        "df02380513ca42a3a0831daa423d2377": {
          "model_module": "@jupyter-widgets/base",
          "model_name": "LayoutModel",
          "model_module_version": "1.2.0",
          "state": {
            "_model_module": "@jupyter-widgets/base",
            "_model_module_version": "1.2.0",
            "_model_name": "LayoutModel",
            "_view_count": null,
            "_view_module": "@jupyter-widgets/base",
            "_view_module_version": "1.2.0",
            "_view_name": "LayoutView",
            "align_content": null,
            "align_items": null,
            "align_self": null,
            "border": null,
            "bottom": null,
            "display": null,
            "flex": null,
            "flex_flow": null,
            "grid_area": null,
            "grid_auto_columns": null,
            "grid_auto_flow": null,
            "grid_auto_rows": null,
            "grid_column": null,
            "grid_gap": null,
            "grid_row": null,
            "grid_template_areas": null,
            "grid_template_columns": null,
            "grid_template_rows": null,
            "height": null,
            "justify_content": null,
            "justify_items": null,
            "left": null,
            "margin": null,
            "max_height": null,
            "max_width": null,
            "min_height": null,
            "min_width": null,
            "object_fit": null,
            "object_position": null,
            "order": null,
            "overflow": null,
            "overflow_x": null,
            "overflow_y": null,
            "padding": null,
            "right": null,
            "top": null,
            "visibility": null,
            "width": null
          }
        },
        "513c3d344a904e75a37577fc923cd347": {
          "model_module": "@jupyter-widgets/base",
          "model_name": "LayoutModel",
          "model_module_version": "1.2.0",
          "state": {
            "_model_module": "@jupyter-widgets/base",
            "_model_module_version": "1.2.0",
            "_model_name": "LayoutModel",
            "_view_count": null,
            "_view_module": "@jupyter-widgets/base",
            "_view_module_version": "1.2.0",
            "_view_name": "LayoutView",
            "align_content": null,
            "align_items": null,
            "align_self": null,
            "border": null,
            "bottom": null,
            "display": null,
            "flex": null,
            "flex_flow": null,
            "grid_area": null,
            "grid_auto_columns": null,
            "grid_auto_flow": null,
            "grid_auto_rows": null,
            "grid_column": null,
            "grid_gap": null,
            "grid_row": null,
            "grid_template_areas": null,
            "grid_template_columns": null,
            "grid_template_rows": null,
            "height": null,
            "justify_content": null,
            "justify_items": null,
            "left": null,
            "margin": null,
            "max_height": null,
            "max_width": null,
            "min_height": null,
            "min_width": null,
            "object_fit": null,
            "object_position": null,
            "order": null,
            "overflow": null,
            "overflow_x": null,
            "overflow_y": null,
            "padding": null,
            "right": null,
            "top": null,
            "visibility": null,
            "width": null
          }
        },
        "0b505e1e04f5497cbb1cc1415ca00f2b": {
          "model_module": "@jupyter-widgets/controls",
          "model_name": "DescriptionStyleModel",
          "model_module_version": "1.5.0",
          "state": {
            "_model_module": "@jupyter-widgets/controls",
            "_model_module_version": "1.5.0",
            "_model_name": "DescriptionStyleModel",
            "_view_count": null,
            "_view_module": "@jupyter-widgets/base",
            "_view_module_version": "1.2.0",
            "_view_name": "StyleView",
            "description_width": ""
          }
        },
        "0b6d818909de4faba364cbb77547332a": {
          "model_module": "@jupyter-widgets/base",
          "model_name": "LayoutModel",
          "model_module_version": "1.2.0",
          "state": {
            "_model_module": "@jupyter-widgets/base",
            "_model_module_version": "1.2.0",
            "_model_name": "LayoutModel",
            "_view_count": null,
            "_view_module": "@jupyter-widgets/base",
            "_view_module_version": "1.2.0",
            "_view_name": "LayoutView",
            "align_content": null,
            "align_items": null,
            "align_self": null,
            "border": null,
            "bottom": null,
            "display": null,
            "flex": null,
            "flex_flow": null,
            "grid_area": null,
            "grid_auto_columns": null,
            "grid_auto_flow": null,
            "grid_auto_rows": null,
            "grid_column": null,
            "grid_gap": null,
            "grid_row": null,
            "grid_template_areas": null,
            "grid_template_columns": null,
            "grid_template_rows": null,
            "height": null,
            "justify_content": null,
            "justify_items": null,
            "left": null,
            "margin": null,
            "max_height": null,
            "max_width": null,
            "min_height": null,
            "min_width": null,
            "object_fit": null,
            "object_position": null,
            "order": null,
            "overflow": null,
            "overflow_x": null,
            "overflow_y": null,
            "padding": null,
            "right": null,
            "top": null,
            "visibility": null,
            "width": null
          }
        },
        "0b0e11ae2e3647b6b134169f9a288d5b": {
          "model_module": "@jupyter-widgets/controls",
          "model_name": "ProgressStyleModel",
          "model_module_version": "1.5.0",
          "state": {
            "_model_module": "@jupyter-widgets/controls",
            "_model_module_version": "1.5.0",
            "_model_name": "ProgressStyleModel",
            "_view_count": null,
            "_view_module": "@jupyter-widgets/base",
            "_view_module_version": "1.2.0",
            "_view_name": "StyleView",
            "bar_color": null,
            "description_width": ""
          }
        },
        "c490bc03b62f43c3b94e5f797c4c70ba": {
          "model_module": "@jupyter-widgets/base",
          "model_name": "LayoutModel",
          "model_module_version": "1.2.0",
          "state": {
            "_model_module": "@jupyter-widgets/base",
            "_model_module_version": "1.2.0",
            "_model_name": "LayoutModel",
            "_view_count": null,
            "_view_module": "@jupyter-widgets/base",
            "_view_module_version": "1.2.0",
            "_view_name": "LayoutView",
            "align_content": null,
            "align_items": null,
            "align_self": null,
            "border": null,
            "bottom": null,
            "display": null,
            "flex": null,
            "flex_flow": null,
            "grid_area": null,
            "grid_auto_columns": null,
            "grid_auto_flow": null,
            "grid_auto_rows": null,
            "grid_column": null,
            "grid_gap": null,
            "grid_row": null,
            "grid_template_areas": null,
            "grid_template_columns": null,
            "grid_template_rows": null,
            "height": null,
            "justify_content": null,
            "justify_items": null,
            "left": null,
            "margin": null,
            "max_height": null,
            "max_width": null,
            "min_height": null,
            "min_width": null,
            "object_fit": null,
            "object_position": null,
            "order": null,
            "overflow": null,
            "overflow_x": null,
            "overflow_y": null,
            "padding": null,
            "right": null,
            "top": null,
            "visibility": null,
            "width": null
          }
        },
        "0ef52deecd064525b78e1999f9811830": {
          "model_module": "@jupyter-widgets/controls",
          "model_name": "DescriptionStyleModel",
          "model_module_version": "1.5.0",
          "state": {
            "_model_module": "@jupyter-widgets/controls",
            "_model_module_version": "1.5.0",
            "_model_name": "DescriptionStyleModel",
            "_view_count": null,
            "_view_module": "@jupyter-widgets/base",
            "_view_module_version": "1.2.0",
            "_view_name": "StyleView",
            "description_width": ""
          }
        },
        "51090e2f0ea34779be42a08a4fa05ce6": {
          "model_module": "@jupyter-widgets/controls",
          "model_name": "HBoxModel",
          "model_module_version": "1.5.0",
          "state": {
            "_dom_classes": [],
            "_model_module": "@jupyter-widgets/controls",
            "_model_module_version": "1.5.0",
            "_model_name": "HBoxModel",
            "_view_count": null,
            "_view_module": "@jupyter-widgets/controls",
            "_view_module_version": "1.5.0",
            "_view_name": "HBoxView",
            "box_style": "",
            "children": [
              "IPY_MODEL_de14b141627c4386a5a99fe6f88ad933",
              "IPY_MODEL_151089d0a7e8475497bf8092f5d1e871",
              "IPY_MODEL_f4e9ad7886ac4564ba655aa454b0747b"
            ],
            "layout": "IPY_MODEL_3cc8998a8e28459fb3e34761d2ea798f"
          }
        },
        "de14b141627c4386a5a99fe6f88ad933": {
          "model_module": "@jupyter-widgets/controls",
          "model_name": "HTMLModel",
          "model_module_version": "1.5.0",
          "state": {
            "_dom_classes": [],
            "_model_module": "@jupyter-widgets/controls",
            "_model_module_version": "1.5.0",
            "_model_name": "HTMLModel",
            "_view_count": null,
            "_view_module": "@jupyter-widgets/controls",
            "_view_module_version": "1.5.0",
            "_view_name": "HTMLView",
            "description": "",
            "description_tooltip": null,
            "layout": "IPY_MODEL_49861401962b4346a94f216bae2e2a20",
            "placeholder": "​",
            "style": "IPY_MODEL_313920934a0d4cfc96c0d874c6d520d2",
            "value": "Downloading: 100%"
          }
        },
        "151089d0a7e8475497bf8092f5d1e871": {
          "model_module": "@jupyter-widgets/controls",
          "model_name": "FloatProgressModel",
          "model_module_version": "1.5.0",
          "state": {
            "_dom_classes": [],
            "_model_module": "@jupyter-widgets/controls",
            "_model_module_version": "1.5.0",
            "_model_name": "FloatProgressModel",
            "_view_count": null,
            "_view_module": "@jupyter-widgets/controls",
            "_view_module_version": "1.5.0",
            "_view_name": "ProgressView",
            "bar_style": "success",
            "description": "",
            "description_tooltip": null,
            "layout": "IPY_MODEL_297cbd7c54d4416483171f9936099805",
            "max": 483,
            "min": 0,
            "orientation": "horizontal",
            "style": "IPY_MODEL_b87cb25cd4fa49f387ce10bf8c9de838",
            "value": 483
          }
        },
        "f4e9ad7886ac4564ba655aa454b0747b": {
          "model_module": "@jupyter-widgets/controls",
          "model_name": "HTMLModel",
          "model_module_version": "1.5.0",
          "state": {
            "_dom_classes": [],
            "_model_module": "@jupyter-widgets/controls",
            "_model_module_version": "1.5.0",
            "_model_name": "HTMLModel",
            "_view_count": null,
            "_view_module": "@jupyter-widgets/controls",
            "_view_module_version": "1.5.0",
            "_view_name": "HTMLView",
            "description": "",
            "description_tooltip": null,
            "layout": "IPY_MODEL_25c9b0a3de4540f1a77fd1f0ac82b565",
            "placeholder": "​",
            "style": "IPY_MODEL_8760d1961a144ab8b395560a545cadd8",
            "value": " 483/483 [00:00&lt;00:00, 10.5kB/s]"
          }
        },
        "3cc8998a8e28459fb3e34761d2ea798f": {
          "model_module": "@jupyter-widgets/base",
          "model_name": "LayoutModel",
          "model_module_version": "1.2.0",
          "state": {
            "_model_module": "@jupyter-widgets/base",
            "_model_module_version": "1.2.0",
            "_model_name": "LayoutModel",
            "_view_count": null,
            "_view_module": "@jupyter-widgets/base",
            "_view_module_version": "1.2.0",
            "_view_name": "LayoutView",
            "align_content": null,
            "align_items": null,
            "align_self": null,
            "border": null,
            "bottom": null,
            "display": null,
            "flex": null,
            "flex_flow": null,
            "grid_area": null,
            "grid_auto_columns": null,
            "grid_auto_flow": null,
            "grid_auto_rows": null,
            "grid_column": null,
            "grid_gap": null,
            "grid_row": null,
            "grid_template_areas": null,
            "grid_template_columns": null,
            "grid_template_rows": null,
            "height": null,
            "justify_content": null,
            "justify_items": null,
            "left": null,
            "margin": null,
            "max_height": null,
            "max_width": null,
            "min_height": null,
            "min_width": null,
            "object_fit": null,
            "object_position": null,
            "order": null,
            "overflow": null,
            "overflow_x": null,
            "overflow_y": null,
            "padding": null,
            "right": null,
            "top": null,
            "visibility": null,
            "width": null
          }
        },
        "49861401962b4346a94f216bae2e2a20": {
          "model_module": "@jupyter-widgets/base",
          "model_name": "LayoutModel",
          "model_module_version": "1.2.0",
          "state": {
            "_model_module": "@jupyter-widgets/base",
            "_model_module_version": "1.2.0",
            "_model_name": "LayoutModel",
            "_view_count": null,
            "_view_module": "@jupyter-widgets/base",
            "_view_module_version": "1.2.0",
            "_view_name": "LayoutView",
            "align_content": null,
            "align_items": null,
            "align_self": null,
            "border": null,
            "bottom": null,
            "display": null,
            "flex": null,
            "flex_flow": null,
            "grid_area": null,
            "grid_auto_columns": null,
            "grid_auto_flow": null,
            "grid_auto_rows": null,
            "grid_column": null,
            "grid_gap": null,
            "grid_row": null,
            "grid_template_areas": null,
            "grid_template_columns": null,
            "grid_template_rows": null,
            "height": null,
            "justify_content": null,
            "justify_items": null,
            "left": null,
            "margin": null,
            "max_height": null,
            "max_width": null,
            "min_height": null,
            "min_width": null,
            "object_fit": null,
            "object_position": null,
            "order": null,
            "overflow": null,
            "overflow_x": null,
            "overflow_y": null,
            "padding": null,
            "right": null,
            "top": null,
            "visibility": null,
            "width": null
          }
        },
        "313920934a0d4cfc96c0d874c6d520d2": {
          "model_module": "@jupyter-widgets/controls",
          "model_name": "DescriptionStyleModel",
          "model_module_version": "1.5.0",
          "state": {
            "_model_module": "@jupyter-widgets/controls",
            "_model_module_version": "1.5.0",
            "_model_name": "DescriptionStyleModel",
            "_view_count": null,
            "_view_module": "@jupyter-widgets/base",
            "_view_module_version": "1.2.0",
            "_view_name": "StyleView",
            "description_width": ""
          }
        },
        "297cbd7c54d4416483171f9936099805": {
          "model_module": "@jupyter-widgets/base",
          "model_name": "LayoutModel",
          "model_module_version": "1.2.0",
          "state": {
            "_model_module": "@jupyter-widgets/base",
            "_model_module_version": "1.2.0",
            "_model_name": "LayoutModel",
            "_view_count": null,
            "_view_module": "@jupyter-widgets/base",
            "_view_module_version": "1.2.0",
            "_view_name": "LayoutView",
            "align_content": null,
            "align_items": null,
            "align_self": null,
            "border": null,
            "bottom": null,
            "display": null,
            "flex": null,
            "flex_flow": null,
            "grid_area": null,
            "grid_auto_columns": null,
            "grid_auto_flow": null,
            "grid_auto_rows": null,
            "grid_column": null,
            "grid_gap": null,
            "grid_row": null,
            "grid_template_areas": null,
            "grid_template_columns": null,
            "grid_template_rows": null,
            "height": null,
            "justify_content": null,
            "justify_items": null,
            "left": null,
            "margin": null,
            "max_height": null,
            "max_width": null,
            "min_height": null,
            "min_width": null,
            "object_fit": null,
            "object_position": null,
            "order": null,
            "overflow": null,
            "overflow_x": null,
            "overflow_y": null,
            "padding": null,
            "right": null,
            "top": null,
            "visibility": null,
            "width": null
          }
        },
        "b87cb25cd4fa49f387ce10bf8c9de838": {
          "model_module": "@jupyter-widgets/controls",
          "model_name": "ProgressStyleModel",
          "model_module_version": "1.5.0",
          "state": {
            "_model_module": "@jupyter-widgets/controls",
            "_model_module_version": "1.5.0",
            "_model_name": "ProgressStyleModel",
            "_view_count": null,
            "_view_module": "@jupyter-widgets/base",
            "_view_module_version": "1.2.0",
            "_view_name": "StyleView",
            "bar_color": null,
            "description_width": ""
          }
        },
        "25c9b0a3de4540f1a77fd1f0ac82b565": {
          "model_module": "@jupyter-widgets/base",
          "model_name": "LayoutModel",
          "model_module_version": "1.2.0",
          "state": {
            "_model_module": "@jupyter-widgets/base",
            "_model_module_version": "1.2.0",
            "_model_name": "LayoutModel",
            "_view_count": null,
            "_view_module": "@jupyter-widgets/base",
            "_view_module_version": "1.2.0",
            "_view_name": "LayoutView",
            "align_content": null,
            "align_items": null,
            "align_self": null,
            "border": null,
            "bottom": null,
            "display": null,
            "flex": null,
            "flex_flow": null,
            "grid_area": null,
            "grid_auto_columns": null,
            "grid_auto_flow": null,
            "grid_auto_rows": null,
            "grid_column": null,
            "grid_gap": null,
            "grid_row": null,
            "grid_template_areas": null,
            "grid_template_columns": null,
            "grid_template_rows": null,
            "height": null,
            "justify_content": null,
            "justify_items": null,
            "left": null,
            "margin": null,
            "max_height": null,
            "max_width": null,
            "min_height": null,
            "min_width": null,
            "object_fit": null,
            "object_position": null,
            "order": null,
            "overflow": null,
            "overflow_x": null,
            "overflow_y": null,
            "padding": null,
            "right": null,
            "top": null,
            "visibility": null,
            "width": null
          }
        },
        "8760d1961a144ab8b395560a545cadd8": {
          "model_module": "@jupyter-widgets/controls",
          "model_name": "DescriptionStyleModel",
          "model_module_version": "1.5.0",
          "state": {
            "_model_module": "@jupyter-widgets/controls",
            "_model_module_version": "1.5.0",
            "_model_name": "DescriptionStyleModel",
            "_view_count": null,
            "_view_module": "@jupyter-widgets/base",
            "_view_module_version": "1.2.0",
            "_view_name": "StyleView",
            "description_width": ""
          }
        }
      }
    }
  },
  "cells": [
    {
      "cell_type": "markdown",
      "source": [
        "#Group 10\n",
        "\n",
        "##Juan Gonzalez\n",
        "##Yashwee Kothari\n",
        "##Ranfis Francisco"
      ],
      "metadata": {
        "id": "Wz2IGPNNINwX"
      }
    },
    {
      "cell_type": "markdown",
      "metadata": {
        "id": "M4it17kJlCLm"
      },
      "source": [
        "<h4>In this project we will be attempting to forecast the price BTC using a Recurrent Neural Network (RNN), Long Short-Term Memory(LSTM), and Autoregression (AR). \n",
        "We will be using price data from yahoo finance along with Twitter \"crypto influencer\" tweet sentiment scores to try and predict the price of BTC at some point in the future. (please run this project cell by cell. Do not use \"run all\")"
      ]
    },
    {
      "cell_type": "markdown",
      "metadata": {
        "id": "PKsVlObYjj6e"
      },
      "source": [
        "<h1>Twitter Sentiment Forecast</h1>\n",
        "<div><p>\n",
        "We will be attempting to forecast the price of BTC using a Recurrent Neural Network (RNN) with  Long Short-Term Memory(LSTM), and Autoregression (AR). Our prediction requires that we import price data for BTC. We begin by installing and importing the necessary libraries required to intake and process the data into a format that is usable by our prediction model. To accomplish this, we have chosen the yahoofinancials library available for python. \n",
        "To store, shape and visualize the data, we will use the Pandas library to create dataframes. We will also use the numpy library to perform the more complex scientific calculations. Along with the price data we will need to scrape twitter feed data. To accomplish this, we will use the Twitter Intelligence library (Twint). Once the data has been properly stored and formatted, we will use the flair library for natural language processing (NLP) to process tweets in order to gain insight as to each tweets sentiment and assign it a positive or negative value. \n",
        "Once the data has been examined, cleaned, and transformed, we will create a new dataframe relating the percentage of positive sentiment to the price of the asset on any given day in a predetermined range. The “dataframe_to_window” function is used to transform the data and return dataframes where every row is the data of the <window> preceding rows. The data is now ready to be used in training our model.\n",
        "From the sklearn library we use “train_test_split” to split our data into a 70/30 train test pair that will be used to train our model with price and sentiment data from the past and then test its ability to predict prices in the future. \n",
        "</p></div>\n"
      ]
    },
    {
      "cell_type": "markdown",
      "source": [
        "<h1>DeepAR</h1>\n",
        "\n",
        "DeepAR is a supervised learning algorithm for time series forecasting that uses recurrent neural networks (RNN) to produce both point and probabilistic forecasts.<br>\n",
        "The amazon sagemaker DeepAR prediction model that was suggested proved to be riddled with technical difficulties due to failing dependencies. We also encountered charges of 15 - 20 dollars per account due to our lack of familiarity with the Amazon AWS environment. These issues were handled but, we would not find success with the Amazon AWS environment and thus pivoted to a simpler LSTM-based recurrent neural network architecture for probabilistic forecasting. <br>\n",
        "The tensorflow library and keras for deep learning are used to model our RNN with LSTM using the “Adam” algorithm for optimization. (Adam optimization is a stochastic gradient descent method that is based on adaptive estimation of first-order and second-order moments). We have chosen to measure regression losses by computing the mean of squares of errors between labels and predictions. We have set the “epochs” to 30 to avoid overfitting (an epoch is a single iteration through the data). Using “tf.keras.utils.plot_model” we plot the model and show the shape. \n"
      ],
      "metadata": {
        "id": "UKUjXcS_2Oq2"
      }
    },
    {
      "cell_type": "markdown",
      "source": [
        "<h1>Prophet Predictor</h1>\n",
        "\n",
        "The prophet model is a time series forecasting model which is designed to handle the common features but also has the ability to include intuitive parameters that can be adjusted without knowing the underlying details of the model. The Prophet model is suited to work for forecasting tasks that have hourly, daily, or weekly observations that have at least a few months of historical data, data about the impact of important events and holidays is known, and data regarding trend changes, and trends that are non-linear. Prophet allows analysts to inject their own prior information about the forecast prediction, for growth curves it allows users to manually specify the capacities or the upper most limit for the curve.\n",
        "\n",
        "\n",
        "The Prophet predictor is an additive regression model. An additive regression model is non-parametric with non-linear smoothers applied to the regressor. In the prophet model only time is used as a regressor but several linear and nonlinear functions are used as components. This model uses 3 main components: trend, seasonality, and holidays. The following equation is used to model this time series:\n",
        "    \n",
        "$$    y(t) = g(t) +s(t) + h(t) + et $$\n",
        "\n",
        "In this equation g(t) is the trend function which models non-periodic changes in the value of the times series. s(t) represents periodic changes (weekly, yearly, etc) and h(t) represents the effects of holidays which occur on irregularly scheduled days such as thanksgiving, black friday, etc. The error term at the end of the equation is for any changes which are not accommodated by the model. The Prophet model makes the assumption that this error term is normally distributed. \n",
        "The trend model in the equation is split into 2: a saturating growth and a piecewise linear model. The growth model of the Prophet model is similar to population growth so it is modeled as the logistic growth model \n",
        "\n",
        "$$    g(t) =C/ (1 + exp(k(t-m)))  $$\n",
        "\n",
        "where C is the capacity, k growth rate, and m an offset. The Prophet model detects the changes in the trends by selecting different changepoints from the data. \n",
        "\n",
        "\n",
        "Seasonality component of the equation y(t) is modeled using the Fourier series which provides a flexible model of periodic effects. Seasonality is a result of human behavior such as the length of work weeks, vacation schedules, and breaks.  These effects repeat yearly. Holidays and events on the other hand do not follow a periodic pattern and their effects are hard to predict using a smooth cycle. It becomes harder for the model since sometimes days like Thanksgiving and Super Bowl occur during different months or days of the week. This makes it difficult to programmatically train the model to predict changes on those days. So instead Prophet allows the analyst to provide their own custom list of past and future events. The effects of these lists of events and holidays are assumed to be independent of each other. Additionally, the model includes additional parameters to capture the effects for a window of days around the holidays and events. This treats each of the days in the window as the holiday as well. \n",
        "\n",
        "The prophet model is a flexible regression model compared to a traditional time series model because it allows including model seasonality, trend fitting, and including holidays and events. \n",
        "\n"
      ],
      "metadata": {
        "id": "ZY2oBX27C5Hg"
      }
    },
    {
      "cell_type": "markdown",
      "metadata": {
        "id": "MT2Un0sMdUoQ"
      },
      "source": [
        "<h2>Install/Import Libraries\n"
      ]
    },
    {
      "cell_type": "code",
      "metadata": {
        "id": "NjQlQtj_dGeg"
      },
      "source": [
        "%%capture\n",
        "!pip install yahoofinancials"
      ],
      "execution_count": null,
      "outputs": []
    },
    {
      "cell_type": "markdown",
      "metadata": {
        "id": "HsReeA1tUvwt"
      },
      "source": [
        "<h3> We will use pandas for dataframes and numpy for scientific computations"
      ]
    },
    {
      "cell_type": "code",
      "metadata": {
        "id": "SRmRWGvVhUBt"
      },
      "source": [
        "import pandas as pd\n",
        "import numpy as np"
      ],
      "execution_count": null,
      "outputs": []
    },
    {
      "cell_type": "markdown",
      "metadata": {
        "id": "VhwqR--qnpz5"
      },
      "source": [
        "<h3>We will use Twitter Intelligence Tool (twint) rather than the Twitter API to scrape tweet and flair for natural language proccessing (NLP)\n"
      ]
    },
    {
      "cell_type": "code",
      "metadata": {
        "id": "XkYxC6u1XGqP"
      },
      "source": [
        "%%capture\n",
        "!pip install twint\n",
        "!pip install --user --upgrade -e git+https://github.com/twintproject/twint.git@origin/master#egg=twint\n",
        "!pip install flair\n",
        "!pip install nest_asyncio"
      ],
      "execution_count": null,
      "outputs": []
    },
    {
      "cell_type": "code",
      "metadata": {
        "id": "VXV0LxpsoNL8"
      },
      "source": [
        "# get python libraries needed to access/import tweets \n",
        "import twint\n",
        "import json\n",
        "from datetime import date\n",
        "from datetime import datetime\n",
        "import time\n",
        "import requests\n",
        "\n",
        "#import pandas as pd\n",
        "import nest_asyncio"
      ],
      "execution_count": null,
      "outputs": []
    },
    {
      "cell_type": "markdown",
      "metadata": {
        "id": "pOdd5zulpSYD"
      },
      "source": [
        "<h3>Build a dataframe of influencers tweets data"
      ]
    },
    {
      "cell_type": "code",
      "metadata": {
        "id": "KYqEXRp5Z0ZC"
      },
      "source": [
        "# Configure\n",
        "#import pandas as pd\n",
        "\n",
        "#dataframe of influencers whos tweets we will scrape\n",
        "users = ['APompliano', 'ErikVorhees','TyDanielSmith', 'ToneVays','Bitboy_Crypto','LayahHeilpern','coinboundio','IvanOnTech','ScottMellker','KennethBosak', 'CryptoCobain', 'Tyler', 'VitalikButerin','CryptoWendyO','StackingUSD', 'TheCryptoDog','DanHeld','CryptoBrekkie','PeterMcCormack']\n",
        "\n",
        "df = pd.DataFrame()\n"
      ],
      "execution_count": null,
      "outputs": []
    },
    {
      "cell_type": "markdown",
      "metadata": {
        "id": "boYLaRtCps-Y"
      },
      "source": [
        "<h3>Scrape BTC tweets into a dataframe by influencer by date"
      ]
    },
    {
      "cell_type": "code",
      "metadata": {
        "id": "MzFOlrV9XNn2"
      },
      "source": [
        "# This cell does not play nice with the \"Run All\" command. Try running each cell one by one.\n",
        "%%capture\n",
        "import nest_asyncio\n",
        "\n",
        "nest_asyncio.apply()\n",
        "\n",
        "# Here, we get tweets with the word \"bitcoin\" by the users we have selected\n",
        "for i in users:\n",
        "    c = twint.Config()\n",
        "    c.Hide_output = True\n",
        "    c.Username = i\n",
        "    c.Limit = 5000\n",
        "    c.Search = [\"bitcoin\"]\n",
        "    #c.Popular_tweets = True\n",
        "    c.Pandas = True\n",
        "    # Run\n",
        "    twint.run.Search(c)\n",
        "    Tweets_df = twint.storage.panda.Tweets_df\n",
        "    df = pd.concat([df,Tweets_df],ignore_index=True)\n",
        "    #print(df)"
      ],
      "execution_count": null,
      "outputs": []
    },
    {
      "cell_type": "markdown",
      "metadata": {
        "id": "wOLwOE8-bSBF"
      },
      "source": [
        "<h3>Let's look at the dataframe"
      ]
    },
    {
      "cell_type": "code",
      "metadata": {
        "colab": {
          "base_uri": "https://localhost:8080/",
          "height": 504
        },
        "id": "E5yMaXhYa1RI",
        "outputId": "5010dd42-0920-433a-ae2b-696841091e26"
      },
      "source": [
        "df.head() "
      ],
      "execution_count": null,
      "outputs": [
        {
          "data": {
            "text/html": [
              "<div>\n",
              "<style scoped>\n",
              "    .dataframe tbody tr th:only-of-type {\n",
              "        vertical-align: middle;\n",
              "    }\n",
              "\n",
              "    .dataframe tbody tr th {\n",
              "        vertical-align: top;\n",
              "    }\n",
              "\n",
              "    .dataframe thead th {\n",
              "        text-align: right;\n",
              "    }\n",
              "</style>\n",
              "<table border=\"1\" class=\"dataframe\">\n",
              "  <thead>\n",
              "    <tr style=\"text-align: right;\">\n",
              "      <th></th>\n",
              "      <th>id</th>\n",
              "      <th>conversation_id</th>\n",
              "      <th>created_at</th>\n",
              "      <th>date</th>\n",
              "      <th>timezone</th>\n",
              "      <th>place</th>\n",
              "      <th>tweet</th>\n",
              "      <th>language</th>\n",
              "      <th>hashtags</th>\n",
              "      <th>cashtags</th>\n",
              "      <th>user_id</th>\n",
              "      <th>user_id_str</th>\n",
              "      <th>username</th>\n",
              "      <th>name</th>\n",
              "      <th>day</th>\n",
              "      <th>hour</th>\n",
              "      <th>link</th>\n",
              "      <th>urls</th>\n",
              "      <th>photos</th>\n",
              "      <th>video</th>\n",
              "      <th>thumbnail</th>\n",
              "      <th>retweet</th>\n",
              "      <th>nlikes</th>\n",
              "      <th>nreplies</th>\n",
              "      <th>nretweets</th>\n",
              "      <th>quote_url</th>\n",
              "      <th>search</th>\n",
              "      <th>near</th>\n",
              "      <th>geo</th>\n",
              "      <th>source</th>\n",
              "      <th>user_rt_id</th>\n",
              "      <th>user_rt</th>\n",
              "      <th>retweet_id</th>\n",
              "      <th>reply_to</th>\n",
              "      <th>retweet_date</th>\n",
              "      <th>translate</th>\n",
              "      <th>trans_src</th>\n",
              "      <th>trans_dest</th>\n",
              "    </tr>\n",
              "  </thead>\n",
              "  <tbody>\n",
              "    <tr>\n",
              "      <th>0</th>\n",
              "      <td>1467892706408030214</td>\n",
              "      <td>1467892706408030214</td>\n",
              "      <td>1.638808e+12</td>\n",
              "      <td>2021-12-06 16:24:27</td>\n",
              "      <td>+0000</td>\n",
              "      <td></td>\n",
              "      <td>We're LIVE with @maxkeiser and @stacyherbert r...</td>\n",
              "      <td>en</td>\n",
              "      <td>[]</td>\n",
              "      <td>[]</td>\n",
              "      <td>339061487</td>\n",
              "      <td>339061487</td>\n",
              "      <td>APompliano</td>\n",
              "      <td>Pomp 🌪</td>\n",
              "      <td>1</td>\n",
              "      <td>16</td>\n",
              "      <td>https://twitter.com/APompliano/status/14678927...</td>\n",
              "      <td>[http://www.youtube.com/c/anthonypompliano/live]</td>\n",
              "      <td>[https://pbs.twimg.com/media/FF8AoxQWQAcd2oF.jpg]</td>\n",
              "      <td>1</td>\n",
              "      <td>https://pbs.twimg.com/media/FF8AoxQWQAcd2oF.jpg</td>\n",
              "      <td>False</td>\n",
              "      <td>189</td>\n",
              "      <td>62</td>\n",
              "      <td>31</td>\n",
              "      <td></td>\n",
              "      <td>['bitcoin']</td>\n",
              "      <td></td>\n",
              "      <td></td>\n",
              "      <td></td>\n",
              "      <td></td>\n",
              "      <td></td>\n",
              "      <td></td>\n",
              "      <td>[]</td>\n",
              "      <td></td>\n",
              "      <td></td>\n",
              "      <td></td>\n",
              "      <td></td>\n",
              "    </tr>\n",
              "    <tr>\n",
              "      <th>1</th>\n",
              "      <td>1467886503997198343</td>\n",
              "      <td>1467886503997198343</td>\n",
              "      <td>1.638806e+12</td>\n",
              "      <td>2021-12-06 15:59:49</td>\n",
              "      <td>+0000</td>\n",
              "      <td></td>\n",
              "      <td>Today's episode of The Best Business Show is 🔥...</td>\n",
              "      <td>en</td>\n",
              "      <td>[]</td>\n",
              "      <td>[]</td>\n",
              "      <td>339061487</td>\n",
              "      <td>339061487</td>\n",
              "      <td>APompliano</td>\n",
              "      <td>Pomp 🌪</td>\n",
              "      <td>1</td>\n",
              "      <td>15</td>\n",
              "      <td>https://twitter.com/APompliano/status/14678865...</td>\n",
              "      <td>[http://www.youtube.com/c/anthonypompliano/live]</td>\n",
              "      <td>[]</td>\n",
              "      <td>0</td>\n",
              "      <td></td>\n",
              "      <td>False</td>\n",
              "      <td>146</td>\n",
              "      <td>31</td>\n",
              "      <td>15</td>\n",
              "      <td></td>\n",
              "      <td>['bitcoin']</td>\n",
              "      <td></td>\n",
              "      <td></td>\n",
              "      <td></td>\n",
              "      <td></td>\n",
              "      <td></td>\n",
              "      <td></td>\n",
              "      <td>[]</td>\n",
              "      <td></td>\n",
              "      <td></td>\n",
              "      <td></td>\n",
              "      <td></td>\n",
              "    </tr>\n",
              "    <tr>\n",
              "      <th>2</th>\n",
              "      <td>1467870845653684237</td>\n",
              "      <td>1467867606304571392</td>\n",
              "      <td>1.638803e+12</td>\n",
              "      <td>2021-12-06 14:57:35</td>\n",
              "      <td>+0000</td>\n",
              "      <td></td>\n",
              "      <td>@PeterSchiff Gold is down 4% over the last yea...</td>\n",
              "      <td>en</td>\n",
              "      <td>[]</td>\n",
              "      <td>[]</td>\n",
              "      <td>339061487</td>\n",
              "      <td>339061487</td>\n",
              "      <td>APompliano</td>\n",
              "      <td>Pomp 🌪</td>\n",
              "      <td>1</td>\n",
              "      <td>14</td>\n",
              "      <td>https://twitter.com/APompliano/status/14678708...</td>\n",
              "      <td>[]</td>\n",
              "      <td>[]</td>\n",
              "      <td>0</td>\n",
              "      <td></td>\n",
              "      <td>False</td>\n",
              "      <td>1194</td>\n",
              "      <td>55</td>\n",
              "      <td>41</td>\n",
              "      <td></td>\n",
              "      <td>['bitcoin']</td>\n",
              "      <td></td>\n",
              "      <td></td>\n",
              "      <td></td>\n",
              "      <td></td>\n",
              "      <td></td>\n",
              "      <td></td>\n",
              "      <td>[{'screen_name': 'PeterSchiff', 'name': 'Peter...</td>\n",
              "      <td></td>\n",
              "      <td></td>\n",
              "      <td></td>\n",
              "      <td></td>\n",
              "    </tr>\n",
              "    <tr>\n",
              "      <th>3</th>\n",
              "      <td>1467870353204600835</td>\n",
              "      <td>1467870353204600835</td>\n",
              "      <td>1.638803e+12</td>\n",
              "      <td>2021-12-06 14:55:38</td>\n",
              "      <td>+0000</td>\n",
              "      <td></td>\n",
              "      <td>This is an interesting exploration of bitcoin ...</td>\n",
              "      <td>en</td>\n",
              "      <td>[]</td>\n",
              "      <td>[]</td>\n",
              "      <td>339061487</td>\n",
              "      <td>339061487</td>\n",
              "      <td>APompliano</td>\n",
              "      <td>Pomp 🌪</td>\n",
              "      <td>1</td>\n",
              "      <td>14</td>\n",
              "      <td>https://twitter.com/APompliano/status/14678703...</td>\n",
              "      <td>[https://thebitcoinlayer.substack.com/p/bitcoi...</td>\n",
              "      <td>[]</td>\n",
              "      <td>0</td>\n",
              "      <td></td>\n",
              "      <td>False</td>\n",
              "      <td>281</td>\n",
              "      <td>37</td>\n",
              "      <td>44</td>\n",
              "      <td></td>\n",
              "      <td>['bitcoin']</td>\n",
              "      <td></td>\n",
              "      <td></td>\n",
              "      <td></td>\n",
              "      <td></td>\n",
              "      <td></td>\n",
              "      <td></td>\n",
              "      <td>[]</td>\n",
              "      <td></td>\n",
              "      <td></td>\n",
              "      <td></td>\n",
              "      <td></td>\n",
              "    </tr>\n",
              "    <tr>\n",
              "      <th>4</th>\n",
              "      <td>1467843497751363590</td>\n",
              "      <td>1467843497751363590</td>\n",
              "      <td>1.638796e+12</td>\n",
              "      <td>2021-12-06 13:08:55</td>\n",
              "      <td>+0000</td>\n",
              "      <td></td>\n",
              "      <td>New episode with @Russ_N_Starr is now live!  -...</td>\n",
              "      <td>en</td>\n",
              "      <td>[]</td>\n",
              "      <td>[]</td>\n",
              "      <td>339061487</td>\n",
              "      <td>339061487</td>\n",
              "      <td>APompliano</td>\n",
              "      <td>Pomp 🌪</td>\n",
              "      <td>1</td>\n",
              "      <td>13</td>\n",
              "      <td>https://twitter.com/APompliano/status/14678434...</td>\n",
              "      <td>[https://podcasts.apple.com/us/podcast/742-bri...</td>\n",
              "      <td>[]</td>\n",
              "      <td>0</td>\n",
              "      <td></td>\n",
              "      <td>False</td>\n",
              "      <td>126</td>\n",
              "      <td>30</td>\n",
              "      <td>15</td>\n",
              "      <td></td>\n",
              "      <td>['bitcoin']</td>\n",
              "      <td></td>\n",
              "      <td></td>\n",
              "      <td></td>\n",
              "      <td></td>\n",
              "      <td></td>\n",
              "      <td></td>\n",
              "      <td>[]</td>\n",
              "      <td></td>\n",
              "      <td></td>\n",
              "      <td></td>\n",
              "      <td></td>\n",
              "    </tr>\n",
              "  </tbody>\n",
              "</table>\n",
              "</div>"
            ],
            "text/plain": [
              "                    id      conversation_id  ...  trans_src trans_dest\n",
              "0  1467892706408030214  1467892706408030214  ...                      \n",
              "1  1467886503997198343  1467886503997198343  ...                      \n",
              "2  1467870845653684237  1467867606304571392  ...                      \n",
              "3  1467870353204600835  1467870353204600835  ...                      \n",
              "4  1467843497751363590  1467843497751363590  ...                      \n",
              "\n",
              "[5 rows x 38 columns]"
            ]
          },
          "execution_count": 61,
          "metadata": {},
          "output_type": "execute_result"
        }
      ]
    },
    {
      "cell_type": "code",
      "metadata": {
        "colab": {
          "base_uri": "https://localhost:8080/"
        },
        "id": "xhHSE8Qva66A",
        "outputId": "78637049-b675-470d-d7ad-fc4f32ab602a"
      },
      "source": [
        "df['tweet'].shape"
      ],
      "execution_count": null,
      "outputs": [
        {
          "data": {
            "text/plain": [
              "(688,)"
            ]
          },
          "execution_count": 62,
          "metadata": {},
          "output_type": "execute_result"
        }
      ]
    },
    {
      "cell_type": "markdown",
      "metadata": {
        "id": "3s6Piqx0otvi"
      },
      "source": [
        "<h3>Use the flair library to determine tweet sentiment and add it to our dataframe"
      ]
    },
    {
      "cell_type": "code",
      "metadata": {
        "colab": {
          "base_uri": "https://localhost:8080/",
          "height": 460,
          "referenced_widgets": [
            "edd863c00a21436281388dee00f7a91c",
            "33ced9b3ae9a42c7abd43320a47c2c59",
            "ca353856d9684cccaf10a8309b030da7",
            "9571d0462c6d4bd2a4ab24d77cb58a8e",
            "43eceffdc6b149caa93ffb0240df747b",
            "5d5bcbca001d4ef0be58f0501108632c",
            "5da8a8481e554eaf86744d4d587cf59c",
            "6cf66c2ee8bf4f28ae3815220e4d1430",
            "fa8fe4b0ee094d909c61d06ed738412d",
            "801e22e9e7c54b85976c8b2aa05d7933",
            "367f2e8b339e468a86c18cfc36ec84ed",
            "6915666b6f39444a9c69c3dac55275ed",
            "ca2172c8b43742bd9dbf91b531701bc5",
            "975bc7b26c7740b1a1d6a89460ba8994",
            "7f4b568fee9449edb061ffd3fa1a6ff2",
            "4201dd7ad66c4caabc6c4cc0a5c10c02",
            "990fa590bbfd4fe29708a4bc4689f4d3",
            "b9e5db24aabe4907ac7cef13295d91f2",
            "22d4a450b7d94ea0a524c5d4a5a23cf6",
            "eaf998f964cc4087a7816c2be1948ff5",
            "8e823a932b4a43d791482b71df646618",
            "f94db67b768d4ae9b34a1c6d5bc3d305",
            "3e65e18c9eaf4238b43dd2cee9a298bb",
            "74e9d5ad9fef486ca504f78408ed7149",
            "69c6f4b1449d4293a8997b6dd16b4257",
            "3d46cc7a6f8a4711ad5e57251123eafd",
            "df02380513ca42a3a0831daa423d2377",
            "513c3d344a904e75a37577fc923cd347",
            "0b505e1e04f5497cbb1cc1415ca00f2b",
            "0b6d818909de4faba364cbb77547332a",
            "0b0e11ae2e3647b6b134169f9a288d5b",
            "c490bc03b62f43c3b94e5f797c4c70ba",
            "0ef52deecd064525b78e1999f9811830",
            "51090e2f0ea34779be42a08a4fa05ce6",
            "de14b141627c4386a5a99fe6f88ad933",
            "151089d0a7e8475497bf8092f5d1e871",
            "f4e9ad7886ac4564ba655aa454b0747b",
            "3cc8998a8e28459fb3e34761d2ea798f",
            "49861401962b4346a94f216bae2e2a20",
            "313920934a0d4cfc96c0d874c6d520d2",
            "297cbd7c54d4416483171f9936099805",
            "b87cb25cd4fa49f387ce10bf8c9de838",
            "25c9b0a3de4540f1a77fd1f0ac82b565",
            "8760d1961a144ab8b395560a545cadd8"
          ]
        },
        "id": "ZUo8g9FCXU6Z",
        "outputId": "edac5f44-6e8a-4922-b4c5-bedaa4e01bba"
      },
      "source": [
        "import flair\n",
        "senti = flair.models.TextClassifier.load('en-sentiment')\n",
        "\n",
        "senti_array = []\n",
        "\n",
        "  #run sentiment anayalsis here\n",
        "\n",
        "for sentence in df['tweet'].values:\n",
        "  s = flair.data.Sentence(sentence)\n",
        "  senti.predict(s)\n",
        "  \n",
        "  senti_array.append(s.labels[0].value)\n",
        "\n",
        "df['sentiment'] = senti_array\n",
        "\n",
        "df_new = df[['date', 'tweet', 'sentiment']]\n",
        "df_new['date'].sort_values(ascending=True)\n"
      ],
      "execution_count": null,
      "outputs": [
        {
          "name": "stdout",
          "output_type": "stream",
          "text": [
            "2021-12-06 15:43:49,635 https://nlp.informatik.hu-berlin.de/resources/models/sentiment-curated-distilbert/sentiment-en-mix-distillbert_4.pt not found in cache, downloading to /tmp/tmpd6riivpx\n"
          ]
        },
        {
          "name": "stderr",
          "output_type": "stream",
          "text": [
            "100%|██████████| 265512723/265512723 [00:31<00:00, 8423023.78B/s] "
          ]
        },
        {
          "name": "stdout",
          "output_type": "stream",
          "text": [
            "2021-12-06 15:44:21,654 copying /tmp/tmpd6riivpx to cache at /root/.flair/models/sentiment-en-mix-distillbert_4.pt\n"
          ]
        },
        {
          "name": "stderr",
          "output_type": "stream",
          "text": [
            "\n"
          ]
        },
        {
          "name": "stdout",
          "output_type": "stream",
          "text": [
            "2021-12-06 15:44:22,150 removing temp file /tmp/tmpd6riivpx\n",
            "2021-12-06 15:44:22,187 loading file /root/.flair/models/sentiment-en-mix-distillbert_4.pt\n"
          ]
        },
        {
          "data": {
            "application/vnd.jupyter.widget-view+json": {
              "model_id": "edd863c00a21436281388dee00f7a91c",
              "version_major": 2,
              "version_minor": 0
            },
            "text/plain": [
              "Downloading:   0%|          | 0.00/28.0 [00:00<?, ?B/s]"
            ]
          },
          "metadata": {},
          "output_type": "display_data"
        },
        {
          "data": {
            "application/vnd.jupyter.widget-view+json": {
              "model_id": "6915666b6f39444a9c69c3dac55275ed",
              "version_major": 2,
              "version_minor": 0
            },
            "text/plain": [
              "Downloading:   0%|          | 0.00/226k [00:00<?, ?B/s]"
            ]
          },
          "metadata": {},
          "output_type": "display_data"
        },
        {
          "data": {
            "application/vnd.jupyter.widget-view+json": {
              "model_id": "3e65e18c9eaf4238b43dd2cee9a298bb",
              "version_major": 2,
              "version_minor": 0
            },
            "text/plain": [
              "Downloading:   0%|          | 0.00/455k [00:00<?, ?B/s]"
            ]
          },
          "metadata": {},
          "output_type": "display_data"
        },
        {
          "data": {
            "application/vnd.jupyter.widget-view+json": {
              "model_id": "51090e2f0ea34779be42a08a4fa05ce6",
              "version_major": 2,
              "version_minor": 0
            },
            "text/plain": [
              "Downloading:   0%|          | 0.00/483 [00:00<?, ?B/s]"
            ]
          },
          "metadata": {},
          "output_type": "display_data"
        },
        {
          "data": {
            "text/plain": [
              "558    2020-11-15 12:56:03\n",
              "557    2020-11-18 11:14:18\n",
              "556    2020-11-18 11:42:17\n",
              "555    2020-11-19 05:06:29\n",
              "554    2020-11-19 05:50:11\n",
              "              ...         \n",
              "337    2021-12-06 15:00:04\n",
              "315    2021-12-06 15:01:17\n",
              "336    2021-12-06 15:07:04\n",
              "335    2021-12-06 15:14:05\n",
              "671    2021-12-06 15:21:33\n",
              "Name: date, Length: 751, dtype: object"
            ]
          },
          "execution_count": 8,
          "metadata": {},
          "output_type": "execute_result"
        }
      ]
    },
    {
      "cell_type": "code",
      "metadata": {
        "colab": {
          "base_uri": "https://localhost:8080/"
        },
        "id": "XOWOece4dvyf",
        "outputId": "5e0b5713-b5d7-4577-ae15-5ce4a75f6631"
      },
      "source": [
        "df_new['date'] = pd.to_datetime(df_new['date'], format='%Y-%m-%d')"
      ],
      "execution_count": null,
      "outputs": [
        {
          "name": "stderr",
          "output_type": "stream",
          "text": [
            "/usr/local/lib/python3.7/dist-packages/ipykernel_launcher.py:1: SettingWithCopyWarning:\n",
            "\n",
            "\n",
            "A value is trying to be set on a copy of a slice from a DataFrame.\n",
            "Try using .loc[row_indexer,col_indexer] = value instead\n",
            "\n",
            "See the caveats in the documentation: https://pandas.pydata.org/pandas-docs/stable/user_guide/indexing.html#returning-a-view-versus-a-copy\n",
            "\n"
          ]
        }
      ]
    },
    {
      "cell_type": "markdown",
      "metadata": {
        "id": "FiVoUUUraIDd"
      },
      "source": [
        "<h3> The new dataframe has only the date, tweet, and the sentiment associated with it"
      ]
    },
    {
      "cell_type": "code",
      "metadata": {
        "colab": {
          "base_uri": "https://localhost:8080/",
          "height": 206
        },
        "id": "QQEFEZ1adXnP",
        "outputId": "e376aa7e-5c42-4b27-b3cd-dec1c617d985"
      },
      "source": [
        "df_new.head()"
      ],
      "execution_count": null,
      "outputs": [
        {
          "data": {
            "text/html": [
              "<div>\n",
              "<style scoped>\n",
              "    .dataframe tbody tr th:only-of-type {\n",
              "        vertical-align: middle;\n",
              "    }\n",
              "\n",
              "    .dataframe tbody tr th {\n",
              "        vertical-align: top;\n",
              "    }\n",
              "\n",
              "    .dataframe thead th {\n",
              "        text-align: right;\n",
              "    }\n",
              "</style>\n",
              "<table border=\"1\" class=\"dataframe\">\n",
              "  <thead>\n",
              "    <tr style=\"text-align: right;\">\n",
              "      <th></th>\n",
              "      <th>date</th>\n",
              "      <th>tweet</th>\n",
              "      <th>sentiment</th>\n",
              "    </tr>\n",
              "  </thead>\n",
              "  <tbody>\n",
              "    <tr>\n",
              "      <th>0</th>\n",
              "      <td>2021-12-06 14:57:35</td>\n",
              "      <td>@PeterSchiff Gold is down 4% over the last yea...</td>\n",
              "      <td>NEGATIVE</td>\n",
              "    </tr>\n",
              "    <tr>\n",
              "      <th>1</th>\n",
              "      <td>2021-12-06 14:55:38</td>\n",
              "      <td>This is an interesting exploration of bitcoin ...</td>\n",
              "      <td>POSITIVE</td>\n",
              "    </tr>\n",
              "    <tr>\n",
              "      <th>2</th>\n",
              "      <td>2021-12-06 13:08:55</td>\n",
              "      <td>New episode with @Russ_N_Starr is now live!  -...</td>\n",
              "      <td>POSITIVE</td>\n",
              "    </tr>\n",
              "    <tr>\n",
              "      <th>3</th>\n",
              "      <td>2021-12-06 01:40:06</td>\n",
              "      <td>FUN FACT: The employment company that @CJSakam...</td>\n",
              "      <td>POSITIVE</td>\n",
              "    </tr>\n",
              "    <tr>\n",
              "      <th>4</th>\n",
              "      <td>2021-12-05 23:17:43</td>\n",
              "      <td>@naomibrockwell @matthew_d_green You can use b...</td>\n",
              "      <td>POSITIVE</td>\n",
              "    </tr>\n",
              "  </tbody>\n",
              "</table>\n",
              "</div>"
            ],
            "text/plain": [
              "                 date  ... sentiment\n",
              "0 2021-12-06 14:57:35  ...  NEGATIVE\n",
              "1 2021-12-06 14:55:38  ...  POSITIVE\n",
              "2 2021-12-06 13:08:55  ...  POSITIVE\n",
              "3 2021-12-06 01:40:06  ...  POSITIVE\n",
              "4 2021-12-05 23:17:43  ...  POSITIVE\n",
              "\n",
              "[5 rows x 3 columns]"
            ]
          },
          "execution_count": 64,
          "metadata": {},
          "output_type": "execute_result"
        }
      ]
    },
    {
      "cell_type": "markdown",
      "metadata": {
        "id": "szcTgGb3Zbth"
      },
      "source": [
        "<h3> Arrange, clean and prepare data"
      ]
    },
    {
      "cell_type": "code",
      "metadata": {
        "colab": {
          "base_uri": "https://localhost:8080/",
          "height": 455
        },
        "id": "2iPdZnebXbRg",
        "outputId": "cdc2051f-1eb4-4733-c434-0304ee7ae953"
      },
      "source": [
        "\n",
        "day = [i for i in range(1, 30)]\n",
        "df_sentimentAnalysis = pd.DataFrame()\n",
        "p = []\n",
        "date = []\n",
        "for k in [8,9,10]:\n",
        "  for i in day:\n",
        "    j=i+1\n",
        "    filtered_df = df_new.loc[(df_new['date'] >= '2021-'+str(k)+'-'+str(i))\n",
        "                      & (df_new['date'] < '2021-'+str(k)+'-'+str(j))]\n",
        "    \n",
        "    if not filtered_df.empty:\n",
        "      x = filtered_df['sentiment'].value_counts()\n",
        "      \n",
        "      #percent of positive\n",
        "      if len(x) >1:\n",
        "        p.append((x[1])/sum(x))\n",
        "        date.append('2021-'+str(k)+'-'+str(j))\n",
        "      else:\n",
        "        p.append(0)\n",
        "        date.append('2021-'+str(k)+'-'+str(j))\n",
        "    else:\n",
        "        p.append(0)\n",
        "        date.append('2021-'+str(k)+'-'+str(j))        \n",
        "\n",
        "df_sentimentAnalysis['formatted_date'] = date\n",
        "df_sentimentAnalysis['percentPos'] = p\n",
        "\n",
        "\n",
        "df_sentimentAnalysis['formatted_date'] = pd.to_datetime(df_sentimentAnalysis['formatted_date'])\n",
        "df_sentimentAnalysis['formatted_date']= df_sentimentAnalysis['formatted_date'].dt.strftime('%Y-%m-%d')\n",
        "df_sentimentAnalysis = df_sentimentAnalysis.set_index('formatted_date')\n",
        "df_sentimentAnalysis"
      ],
      "execution_count": null,
      "outputs": [
        {
          "data": {
            "text/html": [
              "<div>\n",
              "<style scoped>\n",
              "    .dataframe tbody tr th:only-of-type {\n",
              "        vertical-align: middle;\n",
              "    }\n",
              "\n",
              "    .dataframe tbody tr th {\n",
              "        vertical-align: top;\n",
              "    }\n",
              "\n",
              "    .dataframe thead th {\n",
              "        text-align: right;\n",
              "    }\n",
              "</style>\n",
              "<table border=\"1\" class=\"dataframe\">\n",
              "  <thead>\n",
              "    <tr style=\"text-align: right;\">\n",
              "      <th></th>\n",
              "      <th>percentPos</th>\n",
              "    </tr>\n",
              "    <tr>\n",
              "      <th>formatted_date</th>\n",
              "      <th></th>\n",
              "    </tr>\n",
              "  </thead>\n",
              "  <tbody>\n",
              "    <tr>\n",
              "      <th>2021-08-02</th>\n",
              "      <td>0.000000</td>\n",
              "    </tr>\n",
              "    <tr>\n",
              "      <th>2021-08-03</th>\n",
              "      <td>0.000000</td>\n",
              "    </tr>\n",
              "    <tr>\n",
              "      <th>2021-08-04</th>\n",
              "      <td>0.000000</td>\n",
              "    </tr>\n",
              "    <tr>\n",
              "      <th>2021-08-05</th>\n",
              "      <td>0.000000</td>\n",
              "    </tr>\n",
              "    <tr>\n",
              "      <th>2021-08-06</th>\n",
              "      <td>0.000000</td>\n",
              "    </tr>\n",
              "    <tr>\n",
              "      <th>...</th>\n",
              "      <td>...</td>\n",
              "    </tr>\n",
              "    <tr>\n",
              "      <th>2021-10-26</th>\n",
              "      <td>0.142857</td>\n",
              "    </tr>\n",
              "    <tr>\n",
              "      <th>2021-10-27</th>\n",
              "      <td>0.500000</td>\n",
              "    </tr>\n",
              "    <tr>\n",
              "      <th>2021-10-28</th>\n",
              "      <td>0.200000</td>\n",
              "    </tr>\n",
              "    <tr>\n",
              "      <th>2021-10-29</th>\n",
              "      <td>0.400000</td>\n",
              "    </tr>\n",
              "    <tr>\n",
              "      <th>2021-10-30</th>\n",
              "      <td>0.000000</td>\n",
              "    </tr>\n",
              "  </tbody>\n",
              "</table>\n",
              "<p>87 rows × 1 columns</p>\n",
              "</div>"
            ],
            "text/plain": [
              "                percentPos\n",
              "formatted_date            \n",
              "2021-08-02        0.000000\n",
              "2021-08-03        0.000000\n",
              "2021-08-04        0.000000\n",
              "2021-08-05        0.000000\n",
              "2021-08-06        0.000000\n",
              "...                    ...\n",
              "2021-10-26        0.142857\n",
              "2021-10-27        0.500000\n",
              "2021-10-28        0.200000\n",
              "2021-10-29        0.400000\n",
              "2021-10-30        0.000000\n",
              "\n",
              "[87 rows x 1 columns]"
            ]
          },
          "execution_count": 65,
          "metadata": {},
          "output_type": "execute_result"
        }
      ]
    },
    {
      "cell_type": "markdown",
      "metadata": {
        "id": "jL9Ngvx7fh4O"
      },
      "source": [
        "<h3>Get price data from YahooFinancials"
      ]
    },
    {
      "cell_type": "code",
      "metadata": {
        "colab": {
          "base_uri": "https://localhost:8080/",
          "height": 238
        },
        "id": "-dsu5OEAgXmW",
        "outputId": "c1cc99f5-d3a4-4af8-ba04-693a4a3b596b"
      },
      "source": [
        "from yahoofinancials import YahooFinancials\n",
        "\n",
        "def get_df(start_date, end_date):\n",
        "  yahoo_financials = YahooFinancials('BTC-USD')\n",
        "  data=yahoo_financials.get_historical_price_data(start_date, end_date, \"daily\")\n",
        "  btc_df = pd.DataFrame(data['BTC-USD']['prices'])\n",
        "  btc_df = btc_df.drop('date', axis=1).set_index('formatted_date')\n",
        "  # drop all data except closing price\n",
        "  btc_df = btc_df.drop(['high', 'low', 'open', 'volume', 'adjclose'], axis=1)\n",
        "  btc_df = btc_df.dropna(axis=0)\n",
        "  return btc_df\n",
        "\n",
        "# collection_start_date, collection_end_date = (\"2015-01-01\", \"2020-01-30\")\n",
        "collection_start_date, collection_end_date = (\"2020-01-01\", \"2021-11-30\")\n",
        "btc_df = get_df(collection_start_date, collection_end_date)\n",
        "btc_df.tail()"
      ],
      "execution_count": null,
      "outputs": [
        {
          "data": {
            "text/html": [
              "<div>\n",
              "<style scoped>\n",
              "    .dataframe tbody tr th:only-of-type {\n",
              "        vertical-align: middle;\n",
              "    }\n",
              "\n",
              "    .dataframe tbody tr th {\n",
              "        vertical-align: top;\n",
              "    }\n",
              "\n",
              "    .dataframe thead th {\n",
              "        text-align: right;\n",
              "    }\n",
              "</style>\n",
              "<table border=\"1\" class=\"dataframe\">\n",
              "  <thead>\n",
              "    <tr style=\"text-align: right;\">\n",
              "      <th></th>\n",
              "      <th>close</th>\n",
              "    </tr>\n",
              "    <tr>\n",
              "      <th>formatted_date</th>\n",
              "      <th></th>\n",
              "    </tr>\n",
              "  </thead>\n",
              "  <tbody>\n",
              "    <tr>\n",
              "      <th>2021-11-26</th>\n",
              "      <td>53569.765625</td>\n",
              "    </tr>\n",
              "    <tr>\n",
              "      <th>2021-11-27</th>\n",
              "      <td>54815.078125</td>\n",
              "    </tr>\n",
              "    <tr>\n",
              "      <th>2021-11-28</th>\n",
              "      <td>57248.457031</td>\n",
              "    </tr>\n",
              "    <tr>\n",
              "      <th>2021-11-29</th>\n",
              "      <td>57806.566406</td>\n",
              "    </tr>\n",
              "    <tr>\n",
              "      <th>2021-11-30</th>\n",
              "      <td>57005.425781</td>\n",
              "    </tr>\n",
              "  </tbody>\n",
              "</table>\n",
              "</div>"
            ],
            "text/plain": [
              "                       close\n",
              "formatted_date              \n",
              "2021-11-26      53569.765625\n",
              "2021-11-27      54815.078125\n",
              "2021-11-28      57248.457031\n",
              "2021-11-29      57806.566406\n",
              "2021-11-30      57005.425781"
            ]
          },
          "execution_count": 66,
          "metadata": {},
          "output_type": "execute_result"
        }
      ]
    },
    {
      "cell_type": "markdown",
      "metadata": {
        "id": "8vC5Nx-5sqdc"
      },
      "source": [
        "<h3>Create dataframe with sentiment percentages and price data  "
      ]
    },
    {
      "cell_type": "code",
      "metadata": {
        "colab": {
          "base_uri": "https://localhost:8080/"
        },
        "id": "i7xqDbIxe0AC",
        "outputId": "e34780ca-8a01-47b5-fcae-ac2a2a85be42"
      },
      "source": [
        "btc_final= pd.merge(btc_df, df_sentimentAnalysis, on='formatted_date', how='outer')\n",
        "btc_final['percentPos'] = btc_final['percentPos'].fillna(0) # Replace NaN with 0\n",
        "btc_final = btc_final.dropna(axis = 0) # Drop any remaining NaN's just in case\n",
        "print(btc_final.shape)\n",
        "print(btc_final.tail)"
      ],
      "execution_count": null,
      "outputs": [
        {
          "name": "stdout",
          "output_type": "stream",
          "text": [
            "(696, 2)\n",
            "<bound method NDFrame.tail of                        close  percentPos\n",
            "formatted_date                          \n",
            "2020-01-01       7200.174316         0.0\n",
            "2020-01-02       6985.470215         0.0\n",
            "2020-01-03       7344.884277         0.0\n",
            "2020-01-04       7410.656738         0.0\n",
            "2020-01-05       7411.317383         0.0\n",
            "...                      ...         ...\n",
            "2021-11-26      53569.765625         0.0\n",
            "2021-11-27      54815.078125         0.0\n",
            "2021-11-28      57248.457031         0.0\n",
            "2021-11-29      57806.566406         0.0\n",
            "2021-11-30      57005.425781         0.0\n",
            "\n",
            "[696 rows x 2 columns]>\n"
          ]
        }
      ]
    },
    {
      "cell_type": "markdown",
      "metadata": {
        "id": "TcWVdIr12XrT"
      },
      "source": [
        "<h3>Lets take a look at BTC price chart"
      ]
    },
    {
      "cell_type": "code",
      "metadata": {
        "colab": {
          "base_uri": "https://localhost:8080/",
          "height": 335
        },
        "id": "VhXq8GcFzx0Q",
        "outputId": "8ae26137-59a3-49ab-8487-d523f5e41a22"
      },
      "source": [
        "import matplotlib.pyplot as plt\n",
        "\n",
        "btc_final.plot(subplots=False, figsize=(10, 5))\n",
        "plt.show()"
      ],
      "execution_count": null,
      "outputs": [
        {
          "data": {
            "image/png": "[encoded data removed]",
            "text/plain": [
              "<Figure size 720x360 with 1 Axes>"
            ]
          },
          "metadata": {},
          "output_type": "display_data"
        }
      ]
    },
    {
      "cell_type": "markdown",
      "metadata": {
        "id": "yt0z_jKgwocE"
      },
      "source": [
        "<h3>Transform data from dataframe (LSTM)\n",
        "\n",
        "\n"
      ]
    },
    {
      "cell_type": "code",
      "metadata": {
        "id": "WMR6g3sWzNp5"
      },
      "source": [
        "def dataframe_to_window(df, window, normalization_factor=1, include_sentiment=False):\n",
        "  # Take dataframe and return dataframe where every row is the data of the <window> preceding rows.\n",
        "  window_cols = {}\n",
        "\n",
        "  for i in range(1, window + 1):\n",
        "    window_cols[\"day -\" + str(i)] = []\n",
        "  window_cols[\"close\"] = []\n",
        "  if include_sentiment:\n",
        "    window_cols[\"percentPos\"] = []\n",
        "\n",
        "  num_of_days = df.shape[0]\n",
        "\n",
        "  for i in range(window, num_of_days, 1):\n",
        "    for j in range(1, window + 1):\n",
        "      window_cols[\"day -\" + str(j)].append(df.iloc[i - j]['close'] / normalization_factor)\n",
        "    window_cols[\"close\"].append(df.iloc[i]['close'] / normalization_factor)\n",
        "    if include_sentiment:\n",
        "      window_cols[\"percentPos\"].append(df.iloc[i]['percentPos'])\n",
        "\n",
        "  window_df = pd.DataFrame(window_cols)\n",
        "  return window_df"
      ],
      "execution_count": null,
      "outputs": []
    },
    {
      "cell_type": "markdown",
      "source": [
        "<h4>We create 1 dataframe for without any sentiment data and 1 with.</h4>"
      ],
      "metadata": {
        "id": "zHgEihQbVyma"
      }
    },
    {
      "cell_type": "code",
      "metadata": {
        "colab": {
          "base_uri": "https://localhost:8080/"
        },
        "id": "8Mu5h-K89y7P",
        "outputId": "805514c7-62a2-460e-8eb7-6bc2516e0cdb"
      },
      "source": [
        "window_size = 5\n",
        "normalization_factor = 100000\n",
        "\n",
        "window_data = dataframe_to_window(btc_final, window_size, normalization_factor)\n",
        "window_data_with_sentiment = dataframe_to_window(btc_final, window_size, normalization_factor, include_sentiment=True)\n",
        "\n",
        "nov_window_data = window_data.iloc[-31:]\n",
        "window_data = window_data.iloc[:-31]\n",
        "\n",
        "nov_window_data_s = window_data_with_sentiment.iloc[-31:]\n",
        "window_data_with_sentiment = window_data_with_sentiment.iloc[:-31]\n",
        "\n",
        "print(window_data)"
      ],
      "execution_count": null,
      "outputs": [
        {
          "name": "stdout",
          "output_type": "stream",
          "text": [
            "       day -1    day -2    day -3    day -4    day -5     close\n",
            "0    0.074113  0.074107  0.073449  0.069855  0.072002  0.077692\n",
            "1    0.077692  0.074113  0.074107  0.073449  0.069855  0.081637\n",
            "2    0.081637  0.077692  0.074113  0.074107  0.073449  0.080799\n",
            "3    0.080799  0.081637  0.077692  0.074113  0.074107  0.078791\n",
            "4    0.078791  0.080799  0.081637  0.077692  0.074113  0.081666\n",
            "..        ...       ...       ...       ...       ...       ...\n",
            "655  0.630398  0.609308  0.613936  0.606923  0.622102  0.603638\n",
            "656  0.603638  0.630398  0.609308  0.613936  0.606923  0.584824\n",
            "657  0.584824  0.603638  0.630398  0.609308  0.613936  0.606221\n",
            "658  0.606221  0.584824  0.603638  0.630398  0.609308  0.622280\n",
            "659  0.622280  0.606221  0.584824  0.603638  0.630398  0.618888\n",
            "\n",
            "[660 rows x 6 columns]\n"
          ]
        }
      ]
    },
    {
      "cell_type": "markdown",
      "metadata": {
        "id": "oUoz88_6bCZa"
      },
      "source": [
        "<h3> Prepare data for training"
      ]
    },
    {
      "cell_type": "code",
      "metadata": {
        "colab": {
          "base_uri": "https://localhost:8080/"
        },
        "id": "oSQpQ4JV7Vwg",
        "outputId": "0cfc93ea-903d-4cc3-879d-ea011d30e7d0"
      },
      "source": [
        "from sklearn.model_selection import train_test_split\n",
        "import numpy as np\n",
        "\n",
        "def get_train_test_split(data):\n",
        "  x_train, x_test, y_train, y_test = train_test_split(data.drop(['close'], axis=1), data[['close']], test_size=0.3, shuffle=False, random_state=42)\n",
        "\n",
        "  print(\"Number of training samples: \", len(x_train))\n",
        "  print(\"Number of testing sample: \", len(x_test))\n",
        "\n",
        "  # Reshape since model expects 3D input\n",
        "  x_test = x_test.to_numpy()\n",
        "  x_test = x_test[..., np.newaxis].astype(np.float32)\n",
        "  x_train = x_train.to_numpy()\n",
        "  x_train = x_train[..., np.newaxis].astype(np.float32)\n",
        "  print('x_test shape', x_test.shape)\n",
        "  print('y_test shape', y_test.shape)\n",
        "\n",
        "  return x_train, x_test, y_train, y_test\n",
        "\n",
        "x_train, x_test, y_train, y_test = get_train_test_split(window_data)\n",
        "\n",
        "x_train_s, x_test_s, y_train_s, y_test_s = get_train_test_split(window_data_with_sentiment)"
      ],
      "execution_count": null,
      "outputs": [
        {
          "name": "stdout",
          "output_type": "stream",
          "text": [
            "Number of training samples:  462\n",
            "Number of testing sample:  198\n",
            "x_test shape (198, 5, 1)\n",
            "y_test shape (198, 1)\n",
            "Number of training samples:  462\n",
            "Number of testing sample:  198\n",
            "x_test shape (198, 6, 1)\n",
            "y_test shape (198, 1)\n"
          ]
        }
      ]
    },
    {
      "cell_type": "markdown",
      "metadata": {
        "id": "gaLjoKRAwvu-"
      },
      "source": [
        "<h3>Train model using Tensorflow keras"
      ]
    },
    {
      "cell_type": "code",
      "metadata": {
        "id": "wIMgoLSd9fNh"
      },
      "source": [
        "import numpy as np\n",
        "import tensorflow as tf\n",
        "from tensorflow import keras\n",
        "from tensorflow.keras import layers"
      ],
      "execution_count": null,
      "outputs": []
    },
    {
      "cell_type": "markdown",
      "source": [
        "<h4>Here we make a model using LSTM's and Dropouts alternated several times.\n",
        "\n",
        "Droputs reduce overfitting and will improve performance by temporaroly removing random nodes, preventing overfitting where there is a lot of data.</h4>"
      ],
      "metadata": {
        "id": "Ux7xDLsmoQcG"
      }
    },
    {
      "cell_type": "code",
      "metadata": {
        "id": "smIp9avR9iUw"
      },
      "source": [
        "# model = keras.models.Sequential([\n",
        "#     keras.layers.SimpleRNN(20, return_sequences=True),\n",
        "#     keras.layers.SimpleRNN(10, return_sequences=True),\n",
        "#     keras.layers.SimpleRNN(1)\n",
        "# ])\n",
        "\n",
        "model = keras.models.Sequential([\n",
        "    keras.layers.LSTM(units=50, return_sequences=True),\n",
        "    keras.layers.Dropout(0.2),\n",
        "    keras.layers.LSTM(units=50, return_sequences=True),\n",
        "    keras.layers.Dropout(0.2),\n",
        "    keras.layers.LSTM(units=50, return_sequences=True),\n",
        "    keras.layers.Dropout(0.2),\n",
        "    keras.layers.LSTM(units=50, return_sequences=True),\n",
        "    keras.layers.Dropout(0.2),\n",
        "    #keras.layers.Dense(units=1),\n",
        "    keras.layers.SimpleRNN(1)\n",
        "])\n",
        "\n",
        "model_s = keras.models.clone_model(model)\n",
        "\n",
        "model.compile(loss=\"mse\", optimizer=\"adam\")\n",
        "model_s.compile(loss=\"mse\", optimizer=\"adam\")"
      ],
      "execution_count": null,
      "outputs": []
    },
    {
      "cell_type": "code",
      "metadata": {
        "colab": {
          "base_uri": "https://localhost:8080/"
        },
        "id": "kWkUefWn_Ak3",
        "outputId": "ceee7ee7-448d-4887-8042-9d8989c3c0a4"
      },
      "source": [
        "history = model.fit(x_train, y_train, epochs=30,\n",
        "                    validation_data=(x_test, y_test))"
      ],
      "execution_count": null,
      "outputs": [
        {
          "name": "stdout",
          "output_type": "stream",
          "text": [
            "Epoch 1/30\n",
            "15/15 [==============================] - 10s 135ms/step - loss: 0.0428 - val_loss: 0.0589\n",
            "Epoch 2/30\n",
            "15/15 [==============================] - 0s 18ms/step - loss: 0.0229 - val_loss: 0.0401\n",
            "Epoch 3/30\n",
            "15/15 [==============================] - 0s 19ms/step - loss: 0.0080 - val_loss: 0.0028\n",
            "Epoch 4/30\n",
            "15/15 [==============================] - 0s 22ms/step - loss: 0.0027 - val_loss: 5.3045e-04\n",
            "Epoch 5/30\n",
            "15/15 [==============================] - 0s 21ms/step - loss: 0.0020 - val_loss: 0.0014\n",
            "Epoch 6/30\n",
            "15/15 [==============================] - 0s 20ms/step - loss: 0.0015 - val_loss: 5.4988e-04\n",
            "Epoch 7/30\n",
            "15/15 [==============================] - 0s 21ms/step - loss: 0.0018 - val_loss: 8.7457e-04\n",
            "Epoch 8/30\n",
            "15/15 [==============================] - 0s 21ms/step - loss: 0.0015 - val_loss: 7.3340e-04\n",
            "Epoch 9/30\n",
            "15/15 [==============================] - 0s 21ms/step - loss: 0.0014 - val_loss: 6.0079e-04\n",
            "Epoch 10/30\n",
            "15/15 [==============================] - 0s 21ms/step - loss: 0.0018 - val_loss: 8.0700e-04\n",
            "Epoch 11/30\n",
            "15/15 [==============================] - 0s 21ms/step - loss: 0.0015 - val_loss: 6.3281e-04\n",
            "Epoch 12/30\n",
            "15/15 [==============================] - 0s 22ms/step - loss: 0.0014 - val_loss: 4.8587e-04\n",
            "Epoch 13/30\n",
            "15/15 [==============================] - 0s 21ms/step - loss: 0.0013 - val_loss: 7.6994e-04\n",
            "Epoch 14/30\n",
            "15/15 [==============================] - 0s 21ms/step - loss: 0.0016 - val_loss: 9.4148e-04\n",
            "Epoch 15/30\n",
            "15/15 [==============================] - 0s 21ms/step - loss: 0.0016 - val_loss: 5.7506e-04\n",
            "Epoch 16/30\n",
            "15/15 [==============================] - 0s 18ms/step - loss: 0.0013 - val_loss: 5.8350e-04\n",
            "Epoch 17/30\n",
            "15/15 [==============================] - 0s 18ms/step - loss: 0.0014 - val_loss: 5.4662e-04\n",
            "Epoch 18/30\n",
            "15/15 [==============================] - 0s 18ms/step - loss: 0.0011 - val_loss: 0.0014\n",
            "Epoch 19/30\n",
            "15/15 [==============================] - 0s 17ms/step - loss: 0.0014 - val_loss: 4.7422e-04\n",
            "Epoch 20/30\n",
            "15/15 [==============================] - 0s 18ms/step - loss: 0.0014 - val_loss: 5.7955e-04\n",
            "Epoch 21/30\n",
            "15/15 [==============================] - 0s 18ms/step - loss: 0.0010 - val_loss: 7.0906e-04\n",
            "Epoch 22/30\n",
            "15/15 [==============================] - 0s 17ms/step - loss: 8.7450e-04 - val_loss: 4.9535e-04\n",
            "Epoch 23/30\n",
            "15/15 [==============================] - 0s 18ms/step - loss: 0.0011 - val_loss: 0.0022\n",
            "Epoch 24/30\n",
            "15/15 [==============================] - 0s 18ms/step - loss: 9.0966e-04 - val_loss: 4.8542e-04\n",
            "Epoch 25/30\n",
            "15/15 [==============================] - 0s 17ms/step - loss: 0.0013 - val_loss: 5.4094e-04\n",
            "Epoch 26/30\n",
            "15/15 [==============================] - 0s 17ms/step - loss: 0.0011 - val_loss: 6.1379e-04\n",
            "Epoch 27/30\n",
            "15/15 [==============================] - 0s 18ms/step - loss: 9.4674e-04 - val_loss: 4.6032e-04\n",
            "Epoch 28/30\n",
            "15/15 [==============================] - 0s 18ms/step - loss: 0.0010 - val_loss: 4.9393e-04\n",
            "Epoch 29/30\n",
            "15/15 [==============================] - 0s 18ms/step - loss: 8.1465e-04 - val_loss: 7.5565e-04\n",
            "Epoch 30/30\n",
            "15/15 [==============================] - 0s 18ms/step - loss: 9.6409e-04 - val_loss: 0.0015\n"
          ]
        }
      ]
    },
    {
      "cell_type": "code",
      "metadata": {
        "colab": {
          "base_uri": "https://localhost:8080/"
        },
        "id": "Ai3WJARsjIrm",
        "outputId": "22dea1b7-6ea0-48fe-878d-80459723a69e"
      },
      "source": [
        "history_s = model_s.fit(x_train_s, y_train_s, epochs=30,\n",
        "                    validation_data=(x_test_s, y_test_s))"
      ],
      "execution_count": null,
      "outputs": [
        {
          "name": "stdout",
          "output_type": "stream",
          "text": [
            "Epoch 1/30\n",
            "15/15 [==============================] - 11s 137ms/step - loss: 0.0465 - val_loss: 0.0510\n",
            "Epoch 2/30\n",
            "15/15 [==============================] - 0s 20ms/step - loss: 0.0195 - val_loss: 0.0384\n",
            "Epoch 3/30\n",
            "15/15 [==============================] - 0s 19ms/step - loss: 0.0070 - val_loss: 8.1040e-04\n",
            "Epoch 4/30\n",
            "15/15 [==============================] - 0s 20ms/step - loss: 0.0031 - val_loss: 7.2944e-04\n",
            "Epoch 5/30\n",
            "15/15 [==============================] - 0s 20ms/step - loss: 0.0023 - val_loss: 5.3942e-04\n",
            "Epoch 6/30\n",
            "15/15 [==============================] - 0s 20ms/step - loss: 0.0023 - val_loss: 6.5930e-04\n",
            "Epoch 7/30\n",
            "15/15 [==============================] - 0s 21ms/step - loss: 0.0015 - val_loss: 7.5277e-04\n",
            "Epoch 8/30\n",
            "15/15 [==============================] - 0s 20ms/step - loss: 0.0021 - val_loss: 6.9238e-04\n",
            "Epoch 9/30\n",
            "15/15 [==============================] - 0s 20ms/step - loss: 0.0019 - val_loss: 7.6708e-04\n",
            "Epoch 10/30\n",
            "15/15 [==============================] - 0s 23ms/step - loss: 0.0017 - val_loss: 5.8811e-04\n",
            "Epoch 11/30\n",
            "15/15 [==============================] - 0s 20ms/step - loss: 0.0015 - val_loss: 5.2826e-04\n",
            "Epoch 12/30\n",
            "15/15 [==============================] - 0s 21ms/step - loss: 0.0013 - val_loss: 5.2995e-04\n",
            "Epoch 13/30\n",
            "15/15 [==============================] - 0s 24ms/step - loss: 0.0013 - val_loss: 0.0026\n",
            "Epoch 14/30\n",
            "15/15 [==============================] - 0s 23ms/step - loss: 0.0012 - val_loss: 8.1749e-04\n",
            "Epoch 15/30\n",
            "15/15 [==============================] - 0s 21ms/step - loss: 0.0014 - val_loss: 5.0879e-04\n",
            "Epoch 16/30\n",
            "15/15 [==============================] - 0s 21ms/step - loss: 0.0012 - val_loss: 6.0122e-04\n",
            "Epoch 17/30\n",
            "15/15 [==============================] - 0s 21ms/step - loss: 0.0011 - val_loss: 4.9649e-04\n",
            "Epoch 18/30\n",
            "15/15 [==============================] - 0s 21ms/step - loss: 9.5924e-04 - val_loss: 7.8777e-04\n",
            "Epoch 19/30\n",
            "15/15 [==============================] - 0s 24ms/step - loss: 0.0010 - val_loss: 4.9514e-04\n",
            "Epoch 20/30\n",
            "15/15 [==============================] - 0s 24ms/step - loss: 0.0012 - val_loss: 8.8612e-04\n",
            "Epoch 21/30\n",
            "15/15 [==============================] - 0s 24ms/step - loss: 0.0011 - val_loss: 6.1514e-04\n",
            "Epoch 22/30\n",
            "15/15 [==============================] - 0s 23ms/step - loss: 0.0011 - val_loss: 0.0034\n",
            "Epoch 23/30\n",
            "15/15 [==============================] - 0s 24ms/step - loss: 0.0011 - val_loss: 5.9768e-04\n",
            "Epoch 24/30\n",
            "15/15 [==============================] - 0s 20ms/step - loss: 0.0012 - val_loss: 7.0854e-04\n",
            "Epoch 25/30\n",
            "15/15 [==============================] - 0s 19ms/step - loss: 0.0011 - val_loss: 7.0079e-04\n",
            "Epoch 26/30\n",
            "15/15 [==============================] - 0s 21ms/step - loss: 0.0010 - val_loss: 7.7312e-04\n",
            "Epoch 27/30\n",
            "15/15 [==============================] - 0s 21ms/step - loss: 8.3093e-04 - val_loss: 8.0775e-04\n",
            "Epoch 28/30\n",
            "15/15 [==============================] - 0s 22ms/step - loss: 0.0012 - val_loss: 0.0011\n",
            "Epoch 29/30\n",
            "15/15 [==============================] - 0s 22ms/step - loss: 8.0358e-04 - val_loss: 8.3124e-04\n",
            "Epoch 30/30\n",
            "15/15 [==============================] - 0s 21ms/step - loss: 9.2794e-04 - val_loss: 7.0150e-04\n"
          ]
        }
      ]
    },
    {
      "cell_type": "code",
      "metadata": {
        "colab": {
          "base_uri": "https://localhost:8080/",
          "height": 82
        },
        "id": "ozr_2ksuGngA",
        "outputId": "70c6913e-aca9-458c-ae99-ec2e96067d0a"
      },
      "source": [
        "tf.keras.utils.plot_model(model, rankdir='LR', show_shapes=True)"
      ],
      "execution_count": null,
      "outputs": [
        {
          "data": {
            "image/png": "[encoded data removed]",
            "text/plain": [
              "<IPython.core.display.Image object>"
            ]
          },
          "execution_count": 90,
          "metadata": {},
          "output_type": "execute_result"
        }
      ]
    },
    {
      "cell_type": "code",
      "metadata": {
        "colab": {
          "base_uri": "https://localhost:8080/",
          "height": 279
        },
        "id": "1gYNIAlKtOih",
        "outputId": "d0763e3f-a649-4c32-f17f-4566067eaec0"
      },
      "source": [
        "%matplotlib inline\n",
        "import matplotlib as mpl\n",
        "import matplotlib.pyplot as plt\n",
        "\n",
        "def plot_learning_curves(loss, val_loss):\n",
        "    plt.plot(np.arange(len(loss)) + 0.5, loss, \"b.-\", label=\"Training loss\")\n",
        "    plt.plot(np.arange(len(val_loss)) + 1, val_loss, \"r.-\", label=\"Validation loss\")\n",
        "    plt.gca().xaxis.set_major_locator(mpl.ticker.MaxNLocator(integer=True))\n",
        "    # plt.axis([1, 20, 0, 0.05])\n",
        "    plt.legend(fontsize=14)\n",
        "    plt.xlabel(\"Epochs\")\n",
        "    plt.ylabel(\"Loss\")\n",
        "    plt.grid(True)\n",
        "\n",
        "plot_learning_curves(history.history[\"loss\"], history.history[\"val_loss\"])\n",
        "plt.show()"
      ],
      "execution_count": null,
      "outputs": [
        {
          "data": {
            "image/png": "[encoded data removed]",
            "text/plain": [
              "<Figure size 432x288 with 1 Axes>"
            ]
          },
          "metadata": {},
          "output_type": "display_data"
        }
      ]
    },
    {
      "cell_type": "code",
      "metadata": {
        "colab": {
          "base_uri": "https://localhost:8080/"
        },
        "id": "LI8NY2dnhenV",
        "outputId": "ea1db8a0-c0d3-4277-bbd3-99068e17cdac"
      },
      "source": [
        "print(model.evaluate(x_test, y_test))\n",
        "print(y_test.iloc[0: window_size+1])\n",
        "print(model.predict(x_test[0:1]))"
      ],
      "execution_count": null,
      "outputs": [
        {
          "name": "stdout",
          "output_type": "stream",
          "text": [
            "7/7 [==============================] - 0s 4ms/step - loss: 0.0015\n",
            "0.001465482055209577\n",
            "        close\n",
            "462  0.615728\n",
            "463  0.606838\n",
            "464  0.562162\n",
            "465  0.557243\n",
            "466  0.564730\n",
            "467  0.539061\n",
            "[[0.6426655]]\n"
          ]
        }
      ]
    },
    {
      "cell_type": "markdown",
      "source": [
        "<h4>Here, the model makes a predicition on data it has not seen before for the month of November.</h4>"
      ],
      "metadata": {
        "id": "GmfAyjNjpzE1"
      }
    },
    {
      "cell_type": "code",
      "metadata": {
        "colab": {
          "base_uri": "https://localhost:8080/",
          "height": 295
        },
        "id": "aeJSZmpdc759",
        "outputId": "b73a68d2-4e14-40eb-8a64-cd9fe6da4038"
      },
      "source": [
        "x = nov_window_data.drop(['close'], axis=1).iloc[-30:]\n",
        "y = nov_window_data[['close']].iloc[-30:]\n",
        "y_pred = model.predict(x)\n",
        "\n",
        "plt.plot(y_pred*normalization_factor, label=\"Predicted Value\")\n",
        "plt.plot(y.to_numpy()*normalization_factor, label=\"Actual Value\")\n",
        "plt.legend(loc='lower right')\n",
        "plt.xlabel(\"Index\")\n",
        "plt.ylabel(\"Stock Value\")\n",
        "plt.title(\"Predictions for November without Sentiment\")\n",
        "plt.show()"
      ],
      "execution_count": null,
      "outputs": [
        {
          "data": {
            "image/png": "[encoded data removed]",
            "text/plain": [
              "<Figure size 432x288 with 1 Axes>"
            ]
          },
          "metadata": {},
          "output_type": "display_data"
        }
      ]
    },
    {
      "cell_type": "markdown",
      "source": [
        "<h4>For the sentiment analysis, we do not believe there is enough data for the sentiment to make any impact on the analysis. The data given by this model appears to be the same as withouth the sentiment but shifted down.</h4>"
      ],
      "metadata": {
        "id": "s3Qc6LjVqFoE"
      }
    },
    {
      "cell_type": "code",
      "metadata": {
        "colab": {
          "base_uri": "https://localhost:8080/",
          "height": 295
        },
        "id": "iPJMEr5tlWQ2",
        "outputId": "db4f8acc-f945-4e82-87a2-e05badbc2781"
      },
      "source": [
        "x = nov_window_data_s.drop(['close'], axis=1).iloc[-30:]\n",
        "y = nov_window_data_s[['close']].iloc[-30:]\n",
        "y_pred = model_s.predict(x)\n",
        "\n",
        "plt.plot(y_pred*normalization_factor, label=\"Predicted Value\")\n",
        "plt.plot(y.to_numpy()*normalization_factor, label=\"Actual Value\")\n",
        "plt.legend(loc='lower right')\n",
        "plt.xlabel(\"Index\")\n",
        "plt.ylabel(\"Stock Value\")\n",
        "plt.title(\"Predictions for November with Sentiment\")\n",
        "plt.show()"
      ],
      "execution_count": null,
      "outputs": [
        {
          "data": {
            "image/png": "[encoded data removed]",
            "text/plain": [
              "<Figure size 432x288 with 1 Axes>"
            ]
          },
          "metadata": {},
          "output_type": "display_data"
        }
      ]
    },
    {
      "cell_type": "markdown",
      "metadata": {
        "id": "WZOSNyPW_VfM"
      },
      "source": [
        "#Train Prophet Model"
      ]
    },
    {
      "cell_type": "markdown",
      "source": [
        "<h4>Prophet is an open source tool for forecasting time series data. It is capable of taking into account holidays when making predictions based on input data.</h4>"
      ],
      "metadata": {
        "id": "gFhijEPyqzHN"
      }
    },
    {
      "cell_type": "code",
      "metadata": {
        "id": "oZm_MH-e_rPV"
      },
      "source": [
        "%%capture\n",
        "!pip install pystan\n",
        "!pip install Prophet"
      ],
      "execution_count": null,
      "outputs": []
    },
    {
      "cell_type": "code",
      "metadata": {
        "id": "CHRePUHPEkN_"
      },
      "source": [
        "import warnings; # helps minimize lengthy red warnings\n",
        "warnings.simplefilter('ignore')"
      ],
      "execution_count": null,
      "outputs": []
    },
    {
      "cell_type": "code",
      "metadata": {
        "id": "pqN3zS6t_U_d"
      },
      "source": [
        "#import pandas as pd\n",
        "from prophet import Prophet"
      ],
      "execution_count": null,
      "outputs": []
    },
    {
      "cell_type": "markdown",
      "metadata": {
        "id": "DS9j_aYZE8Js"
      },
      "source": [
        "<h3> Prepare our dataframe for time series"
      ]
    },
    {
      "cell_type": "code",
      "metadata": {
        "colab": {
          "base_uri": "https://localhost:8080/",
          "height": 455
        },
        "id": "lwcwjS3tAMm1",
        "outputId": "ad7d7e9e-5cf4-4015-cffe-924f2a537a32"
      },
      "source": [
        "# Add new columns with correct names to match Prophet API requirements.\n",
        "prophet_df = pd.DataFrame()\n",
        "prophet_df[\"y\"] = btc_final.iloc[:-30][\"close\"]\n",
        "prophet_df[\"ds\"] = btc_final[:-30].index\n",
        "prophet_df"
      ],
      "execution_count": null,
      "outputs": [
        {
          "data": {
            "text/html": [
              "<div>\n",
              "<style scoped>\n",
              "    .dataframe tbody tr th:only-of-type {\n",
              "        vertical-align: middle;\n",
              "    }\n",
              "\n",
              "    .dataframe tbody tr th {\n",
              "        vertical-align: top;\n",
              "    }\n",
              "\n",
              "    .dataframe thead th {\n",
              "        text-align: right;\n",
              "    }\n",
              "</style>\n",
              "<table border=\"1\" class=\"dataframe\">\n",
              "  <thead>\n",
              "    <tr style=\"text-align: right;\">\n",
              "      <th></th>\n",
              "      <th>y</th>\n",
              "      <th>ds</th>\n",
              "    </tr>\n",
              "    <tr>\n",
              "      <th>formatted_date</th>\n",
              "      <th></th>\n",
              "      <th></th>\n",
              "    </tr>\n",
              "  </thead>\n",
              "  <tbody>\n",
              "    <tr>\n",
              "      <th>2020-01-01</th>\n",
              "      <td>7200.174316</td>\n",
              "      <td>2020-01-01</td>\n",
              "    </tr>\n",
              "    <tr>\n",
              "      <th>2020-01-02</th>\n",
              "      <td>6985.470215</td>\n",
              "      <td>2020-01-02</td>\n",
              "    </tr>\n",
              "    <tr>\n",
              "      <th>2020-01-03</th>\n",
              "      <td>7344.884277</td>\n",
              "      <td>2020-01-03</td>\n",
              "    </tr>\n",
              "    <tr>\n",
              "      <th>2020-01-04</th>\n",
              "      <td>7410.656738</td>\n",
              "      <td>2020-01-04</td>\n",
              "    </tr>\n",
              "    <tr>\n",
              "      <th>2020-01-05</th>\n",
              "      <td>7411.317383</td>\n",
              "      <td>2020-01-05</td>\n",
              "    </tr>\n",
              "    <tr>\n",
              "      <th>...</th>\n",
              "      <td>...</td>\n",
              "      <td>...</td>\n",
              "    </tr>\n",
              "    <tr>\n",
              "      <th>2021-10-27</th>\n",
              "      <td>58482.386719</td>\n",
              "      <td>2021-10-27</td>\n",
              "    </tr>\n",
              "    <tr>\n",
              "      <th>2021-10-28</th>\n",
              "      <td>60622.136719</td>\n",
              "      <td>2021-10-28</td>\n",
              "    </tr>\n",
              "    <tr>\n",
              "      <th>2021-10-29</th>\n",
              "      <td>62227.964844</td>\n",
              "      <td>2021-10-29</td>\n",
              "    </tr>\n",
              "    <tr>\n",
              "      <th>2021-10-30</th>\n",
              "      <td>61888.832031</td>\n",
              "      <td>2021-10-30</td>\n",
              "    </tr>\n",
              "    <tr>\n",
              "      <th>2021-10-31</th>\n",
              "      <td>61318.957031</td>\n",
              "      <td>2021-10-31</td>\n",
              "    </tr>\n",
              "  </tbody>\n",
              "</table>\n",
              "<p>666 rows × 2 columns</p>\n",
              "</div>"
            ],
            "text/plain": [
              "                           y          ds\n",
              "formatted_date                          \n",
              "2020-01-01       7200.174316  2020-01-01\n",
              "2020-01-02       6985.470215  2020-01-02\n",
              "2020-01-03       7344.884277  2020-01-03\n",
              "2020-01-04       7410.656738  2020-01-04\n",
              "2020-01-05       7411.317383  2020-01-05\n",
              "...                      ...         ...\n",
              "2021-10-27      58482.386719  2021-10-27\n",
              "2021-10-28      60622.136719  2021-10-28\n",
              "2021-10-29      62227.964844  2021-10-29\n",
              "2021-10-30      61888.832031  2021-10-30\n",
              "2021-10-31      61318.957031  2021-10-31\n",
              "\n",
              "[666 rows x 2 columns]"
            ]
          },
          "execution_count": 31,
          "metadata": {},
          "output_type": "execute_result"
        }
      ]
    },
    {
      "cell_type": "markdown",
      "metadata": {
        "id": "ov8A8eKQGTBP"
      },
      "source": [
        "<h4>Check that our data types are correct.</h4>"
      ]
    },
    {
      "cell_type": "code",
      "metadata": {
        "colab": {
          "base_uri": "https://localhost:8080/"
        },
        "id": "3KYTIH3dFfvK",
        "outputId": "04df3edd-69db-4b46-e311-2c11a47fec3a"
      },
      "source": [
        "prophet_df.dtypes"
      ],
      "execution_count": null,
      "outputs": [
        {
          "data": {
            "text/plain": [
              "y            float64\n",
              "ds    datetime64[ns]\n",
              "dtype: object"
            ]
          },
          "execution_count": 44,
          "metadata": {},
          "output_type": "execute_result"
        }
      ]
    },
    {
      "cell_type": "code",
      "metadata": {
        "id": "DeglI8b7JLlS"
      },
      "source": [
        "prophet_df['ds'] = pd.to_datetime(prophet_df['ds']) #ds must be datetime type for prophet\n",
        "prophet_df.dtypes"
      ],
      "execution_count": null,
      "outputs": []
    },
    {
      "cell_type": "code",
      "metadata": {
        "colab": {
          "base_uri": "https://localhost:8080/"
        },
        "id": "iJ2gQLIO_gpF",
        "outputId": "5642f80d-de14-4138-9b34-d72ed72011e1"
      },
      "source": [
        "m = Prophet()\n",
        "model = m.fit(prophet_df)"
      ],
      "execution_count": null,
      "outputs": [
        {
          "data": {
            "text/plain": [
              "<prophet.forecaster.Prophet at 0x7faf411b07d0>"
            ]
          },
          "execution_count": 45,
          "metadata": {},
          "output_type": "execute_result"
        }
      ]
    },
    {
      "cell_type": "code",
      "metadata": {
        "colab": {
          "base_uri": "https://localhost:8080/",
          "height": 206
        },
        "id": "xyfijrrkBA4U",
        "outputId": "f19853f7-c201-411c-a7eb-5675d48bed30"
      },
      "source": [
        "future = m.make_future_dataframe(periods=30, freq='D')\n",
        "future.tail()"
      ],
      "execution_count": null,
      "outputs": [
        {
          "data": {
            "text/html": [
              "<div>\n",
              "<style scoped>\n",
              "    .dataframe tbody tr th:only-of-type {\n",
              "        vertical-align: middle;\n",
              "    }\n",
              "\n",
              "    .dataframe tbody tr th {\n",
              "        vertical-align: top;\n",
              "    }\n",
              "\n",
              "    .dataframe thead th {\n",
              "        text-align: right;\n",
              "    }\n",
              "</style>\n",
              "<table border=\"1\" class=\"dataframe\">\n",
              "  <thead>\n",
              "    <tr style=\"text-align: right;\">\n",
              "      <th></th>\n",
              "      <th>ds</th>\n",
              "    </tr>\n",
              "  </thead>\n",
              "  <tbody>\n",
              "    <tr>\n",
              "      <th>691</th>\n",
              "      <td>2021-11-26</td>\n",
              "    </tr>\n",
              "    <tr>\n",
              "      <th>692</th>\n",
              "      <td>2021-11-27</td>\n",
              "    </tr>\n",
              "    <tr>\n",
              "      <th>693</th>\n",
              "      <td>2021-11-28</td>\n",
              "    </tr>\n",
              "    <tr>\n",
              "      <th>694</th>\n",
              "      <td>2021-11-29</td>\n",
              "    </tr>\n",
              "    <tr>\n",
              "      <th>695</th>\n",
              "      <td>2021-11-30</td>\n",
              "    </tr>\n",
              "  </tbody>\n",
              "</table>\n",
              "</div>"
            ],
            "text/plain": [
              "            ds\n",
              "691 2021-11-26\n",
              "692 2021-11-27\n",
              "693 2021-11-28\n",
              "694 2021-11-29\n",
              "695 2021-11-30"
            ]
          },
          "execution_count": 50,
          "metadata": {},
          "output_type": "execute_result"
        }
      ]
    },
    {
      "cell_type": "code",
      "metadata": {
        "colab": {
          "base_uri": "https://localhost:8080/",
          "height": 206
        },
        "id": "8qtWfpHpBLdz",
        "outputId": "ebb44085-99d7-4240-a04c-d70b86d15ac1"
      },
      "source": [
        "forecast = m.predict(future)\n",
        "forecast[['ds', 'yhat', 'yhat_lower', 'yhat_upper']].tail()"
      ],
      "execution_count": null,
      "outputs": [
        {
          "data": {
            "text/html": [
              "<div>\n",
              "<style scoped>\n",
              "    .dataframe tbody tr th:only-of-type {\n",
              "        vertical-align: middle;\n",
              "    }\n",
              "\n",
              "    .dataframe tbody tr th {\n",
              "        vertical-align: top;\n",
              "    }\n",
              "\n",
              "    .dataframe thead th {\n",
              "        text-align: right;\n",
              "    }\n",
              "</style>\n",
              "<table border=\"1\" class=\"dataframe\">\n",
              "  <thead>\n",
              "    <tr style=\"text-align: right;\">\n",
              "      <th></th>\n",
              "      <th>ds</th>\n",
              "      <th>yhat</th>\n",
              "      <th>yhat_lower</th>\n",
              "      <th>yhat_upper</th>\n",
              "    </tr>\n",
              "  </thead>\n",
              "  <tbody>\n",
              "    <tr>\n",
              "      <th>691</th>\n",
              "      <td>2021-11-26</td>\n",
              "      <td>62647.083051</td>\n",
              "      <td>58335.043818</td>\n",
              "      <td>66843.467744</td>\n",
              "    </tr>\n",
              "    <tr>\n",
              "      <th>692</th>\n",
              "      <td>2021-11-27</td>\n",
              "      <td>62795.012431</td>\n",
              "      <td>58659.897917</td>\n",
              "      <td>67298.617320</td>\n",
              "    </tr>\n",
              "    <tr>\n",
              "      <th>693</th>\n",
              "      <td>2021-11-28</td>\n",
              "      <td>62888.934855</td>\n",
              "      <td>58755.357563</td>\n",
              "      <td>67245.409068</td>\n",
              "    </tr>\n",
              "    <tr>\n",
              "      <th>694</th>\n",
              "      <td>2021-11-29</td>\n",
              "      <td>63036.441425</td>\n",
              "      <td>58586.238782</td>\n",
              "      <td>67529.558672</td>\n",
              "    </tr>\n",
              "    <tr>\n",
              "      <th>695</th>\n",
              "      <td>2021-11-30</td>\n",
              "      <td>63114.183572</td>\n",
              "      <td>58711.179860</td>\n",
              "      <td>67545.706485</td>\n",
              "    </tr>\n",
              "  </tbody>\n",
              "</table>\n",
              "</div>"
            ],
            "text/plain": [
              "            ds          yhat    yhat_lower    yhat_upper\n",
              "691 2021-11-26  62647.083051  58335.043818  66843.467744\n",
              "692 2021-11-27  62795.012431  58659.897917  67298.617320\n",
              "693 2021-11-28  62888.934855  58755.357563  67245.409068\n",
              "694 2021-11-29  63036.441425  58586.238782  67529.558672\n",
              "695 2021-11-30  63114.183572  58711.179860  67545.706485"
            ]
          },
          "execution_count": 47,
          "metadata": {},
          "output_type": "execute_result"
        }
      ]
    },
    {
      "cell_type": "markdown",
      "source": [
        "<h4>Forecast Prediction</h4>\n"
      ],
      "metadata": {
        "id": "PDBxCt2rrROD"
      }
    },
    {
      "cell_type": "code",
      "metadata": {
        "colab": {
          "base_uri": "https://localhost:8080/",
          "height": 441
        },
        "id": "bhadfLfSCGLk",
        "outputId": "d2a67511-5e41-4189-e290-d01058a7e112"
      },
      "source": [
        "fig1 = m.plot(forecast)"
      ],
      "execution_count": null,
      "outputs": [
        {
          "data": {
            "image/png": "[encoded data removed]",
            "text/plain": [
              "<Figure size 720x432 with 1 Axes>"
            ]
          },
          "metadata": {},
          "output_type": "display_data"
        }
      ]
    },
    {
      "cell_type": "code",
      "metadata": {
        "colab": {
          "background_save": true,
          "base_uri": "https://localhost:8080/",
          "height": 441
        },
        "id": "ASJTv_3DLwiQ",
        "outputId": "7aeabb70-b963-44c2-9a1b-ab007626623c"
      },
      "source": [
        "fig2 = m.plot_components(forecast)"
      ],
      "execution_count": null,
      "outputs": [
        {
          "data": {
            "image/png": "[encoded data removed]",
            "text/plain": [
              "<Figure size 648x432 with 2 Axes>"
            ]
          },
          "metadata": {},
          "output_type": "display_data"
        }
      ]
    },
    {
      "cell_type": "markdown",
      "source": [
        "<h4>X axis for the predictied value is likely miscaled in the below graph.</h4>"
      ],
      "metadata": {
        "id": "CA10xYAjrfur"
      }
    },
    {
      "cell_type": "code",
      "metadata": {
        "colab": {
          "base_uri": "https://localhost:8080/",
          "height": 295
        },
        "id": "W6fzcyLBeE-l",
        "outputId": "e70e3af4-02d6-4509-9e6e-12ed8a88f624"
      },
      "source": [
        "plt.plot(forecast.iloc[-30:].reset_index()['yhat'], label=\"Predicted Value\")\n",
        "plt.plot(nov_window_data[['close']].iloc[-30:].to_numpy() * normalization_factor, label=\"Actual Value\")\n",
        "plt.xlabel(\"Index\")\n",
        "plt.ylabel(\"Stock Value\")\n",
        "plt.title(\"Predictions for November\")\n",
        "plt.legend(loc='lower left')\n",
        "plt.show()"
      ],
      "execution_count": null,
      "outputs": [
        {
          "data": {
            "image/png": "[encoded data removed]",
            "text/plain": [
              "<Figure size 432x288 with 1 Axes>"
            ]
          },
          "metadata": {},
          "output_type": "display_data"
        }
      ]
    }
  ]
}